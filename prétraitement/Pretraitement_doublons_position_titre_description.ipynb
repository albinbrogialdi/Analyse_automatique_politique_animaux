{
 "cells": [
  {
   "cell_type": "markdown",
   "metadata": {},
   "source": [
    "# Pré-traitement des données pour l'apprentissage de la position sur les colonnes titre et description (sans doublons)"
   ]
  },
  {
   "cell_type": "markdown",
   "metadata": {},
   "source": [
    "## Modules à importer"
   ]
  },
  {
   "cell_type": "code",
   "execution_count": 1,
   "metadata": {},
   "outputs": [],
   "source": [
    "import pandas as pd\n",
    "import nltk\n",
    "import string\n",
    "from sklearn.model_selection import train_test_split\n",
    "from sklearn.base import BaseEstimator, TransformerMixin\n",
    "from nltk.tokenize import word_tokenize\n",
    "from nltk.stem.snowball import FrenchStemmer\n",
    "from sklearn.feature_extraction.text import CountVectorizer\n",
    "from sklearn.pipeline import Pipeline, FeatureUnion, make_pipeline\n",
    "from sklearn.feature_extraction.text import TfidfVectorizer\n",
    "from sklearn.linear_model import LogisticRegression"
   ]
  },
  {
   "cell_type": "markdown",
   "metadata": {},
   "source": [
    "## Lecture du fichier CSV et création de la dataframe"
   ]
  },
  {
   "cell_type": "code",
   "execution_count": 2,
   "metadata": {},
   "outputs": [],
   "source": [
    "opinion_df = pd.read_csv (\"./data_website_tab.csv\", sep=\"\\t\", names=[\"titre\", \"description\",\"position\",\"theme\"],dtype={\"titre\":\"object\",\"description\":\"object\",\"position\":\"category\",\"theme\":\"category\"},header=None)"
   ]
  },
  {
   "cell_type": "markdown",
   "metadata": {},
   "source": [
    "## Suppression des lignes vides"
   ]
  },
  {
   "cell_type": "code",
   "execution_count": 3,
   "metadata": {},
   "outputs": [],
   "source": [
    "opinion_df_clean = opinion_df.dropna(how='any')"
   ]
  },
  {
   "cell_type": "markdown",
   "metadata": {},
   "source": [
    "## Récupération des index des lignes sans texte ne contenant que des espaces "
   ]
  },
  {
   "cell_type": "code",
   "execution_count": 4,
   "metadata": {},
   "outputs": [],
   "source": [
    "opinion_df_spaces = opinion_df_clean[(opinion_df_clean.description == \" \") |(opinion_df_clean.description == \"  \")]"
   ]
  },
  {
   "cell_type": "markdown",
   "metadata": {},
   "source": [
    "## Suppression des lignes ayant uniquement des espaces"
   ]
  },
  {
   "cell_type": "code",
   "execution_count": 5,
   "metadata": {},
   "outputs": [],
   "source": [
    "opinion_df_clean2 = opinion_df_clean.drop(index=opinion_df_spaces.index)"
   ]
  },
  {
   "cell_type": "markdown",
   "metadata": {},
   "source": [
    "## Remplacement du jeu de données initial par le jeu de données nettoyé"
   ]
  },
  {
   "cell_type": "code",
   "execution_count": 6,
   "metadata": {},
   "outputs": [],
   "source": [
    "opinion_df= opinion_df_clean2"
   ]
  },
  {
   "cell_type": "markdown",
   "metadata": {},
   "source": [
    "\n",
    "# Suppression des doublons\n"
   ]
  },
  {
   "cell_type": "markdown",
   "metadata": {},
   "source": [
    "## Nombre de lignes pour chaque position avant suppression des doublons "
   ]
  },
  {
   "cell_type": "code",
   "execution_count": 7,
   "metadata": {
    "scrolled": true
   },
   "outputs": [
    {
     "data": {
      "text/plain": [
       "Agit pour les animaux        3899\n",
       "Agit contre les animaux      2768\n",
       "Penche pour les animaux       565\n",
       "Penche contre les animaux     326\n",
       "Name: position, dtype: int64"
      ]
     },
     "execution_count": 7,
     "metadata": {},
     "output_type": "execute_result"
    }
   ],
   "source": [
    "opinion_df.position.value_counts()"
   ]
  },
  {
   "cell_type": "markdown",
   "metadata": {},
   "source": [
    "# Observations\n",
    "_doublons lignes d'index 4 et 5 ; 20, 21, 22, et 23 ; 24, 25, 26 et 27_"
   ]
  },
  {
   "cell_type": "code",
   "execution_count": 8,
   "metadata": {
    "scrolled": true
   },
   "outputs": [
    {
     "data": {
      "text/html": [
       "<div>\n",
       "<style scoped>\n",
       "    .dataframe tbody tr th:only-of-type {\n",
       "        vertical-align: middle;\n",
       "    }\n",
       "\n",
       "    .dataframe tbody tr th {\n",
       "        vertical-align: top;\n",
       "    }\n",
       "\n",
       "    .dataframe thead th {\n",
       "        text-align: right;\n",
       "    }\n",
       "</style>\n",
       "<table border=\"1\" class=\"dataframe\">\n",
       "  <thead>\n",
       "    <tr style=\"text-align: right;\">\n",
       "      <th></th>\n",
       "      <th>titre</th>\n",
       "      <th>description</th>\n",
       "      <th>position</th>\n",
       "      <th>theme</th>\n",
       "    </tr>\n",
       "  </thead>\n",
       "  <tbody>\n",
       "    <tr>\n",
       "      <th>0</th>\n",
       "      <td>Le député Loïc Dombreval demande au gouverneme...</td>\n",
       "      <td>.@LoicDombreval se prononce pour une anticipa...</td>\n",
       "      <td>Agit pour les animaux</td>\n",
       "      <td>elevage</td>\n",
       "    </tr>\n",
       "    <tr>\n",
       "      <th>1</th>\n",
       "      <td>Ces maires ont attribué une délégation conditi...</td>\n",
       "      <td>Ces maires ont attribué à un conseiller ou un...</td>\n",
       "      <td>Agit pour les animaux</td>\n",
       "      <td>droit-animal</td>\n",
       "    </tr>\n",
       "    <tr>\n",
       "      <th>2</th>\n",
       "      <td>Tribune en faveur de la censure du débat publi...</td>\n",
       "      <td>Soutien assumé à la convention « Déméter », d...</td>\n",
       "      <td>Agit contre les animaux</td>\n",
       "      <td>elevage</td>\n",
       "    </tr>\n",
       "    <tr>\n",
       "      <th>3</th>\n",
       "      <td>Proposition de loi n°1896 visant à abolir l’él...</td>\n",
       "      <td>En France, il est interdit de fabriquer et ve...</td>\n",
       "      <td>Agit pour les animaux</td>\n",
       "      <td>elevage</td>\n",
       "    </tr>\n",
       "    <tr>\n",
       "      <th>4</th>\n",
       "      <td>3 Députés demandent au gouvernement d'intégrer...</td>\n",
       "      <td>Question écrite de M. Dimitri Houbron député ...</td>\n",
       "      <td>Agit pour les animaux</td>\n",
       "      <td>mer-pisciculture</td>\n",
       "    </tr>\n",
       "    <tr>\n",
       "      <th>5</th>\n",
       "      <td>3 Députés demandent au gouvernement d'intégrer...</td>\n",
       "      <td>Question écrite de M. Dimitri Houbron député ...</td>\n",
       "      <td>Agit pour les animaux</td>\n",
       "      <td>elevage</td>\n",
       "    </tr>\n",
       "    <tr>\n",
       "      <th>6</th>\n",
       "      <td>Le sénateur Arnaud Bazin demande des explicati...</td>\n",
       "      <td>Question écrite n° 18999 de M. Arnaud Bazin  ...</td>\n",
       "      <td>Agit pour les animaux</td>\n",
       "      <td>experimentation-animale</td>\n",
       "    </tr>\n",
       "    <tr>\n",
       "      <th>7</th>\n",
       "      <td>La ville de Montpellier vote un vœu visant à i...</td>\n",
       "      <td>Le Conseil municipal de la ville de Montpelli...</td>\n",
       "      <td>Agit pour les animaux</td>\n",
       "      <td>zoo-cirque</td>\n",
       "    </tr>\n",
       "    <tr>\n",
       "      <th>8</th>\n",
       "      <td>Éric Piolle, maire de Grenoble, soutient le Ré...</td>\n",
       "      <td>Dans une vidéo publiée sur le compte Twitter ...</td>\n",
       "      <td>Agit pour les animaux</td>\n",
       "      <td>droit-animal</td>\n",
       "    </tr>\n",
       "    <tr>\n",
       "      <th>9</th>\n",
       "      <td>Anne Hidalgo, maire de Paris, et Christophe Na...</td>\n",
       "      <td>À l'occasion de la journée mondiale des anima...</td>\n",
       "      <td>Agit pour les animaux</td>\n",
       "      <td>droit-animal</td>\n",
       "    </tr>\n",
       "    <tr>\n",
       "      <th>10</th>\n",
       "      <td>Tours baptise un jardin du nom de l'éléphant F...</td>\n",
       "      <td>Extrait du site de la ville de Tours :  Homma...</td>\n",
       "      <td>Agit pour les animaux</td>\n",
       "      <td>droit-animal</td>\n",
       "    </tr>\n",
       "    <tr>\n",
       "      <th>11</th>\n",
       "      <td>La ville de Pessac adopte une motion «en faveu...</td>\n",
       "      <td>CONSEIL MUNICIPAL DU MARDI 29 SEPTEMBRE 2020 ...</td>\n",
       "      <td>Agit pour les animaux</td>\n",
       "      <td>droit-animal</td>\n",
       "    </tr>\n",
       "    <tr>\n",
       "      <th>12</th>\n",
       "      <td>Amendements CE17 et CE29 contre la fin progres...</td>\n",
       "      <td>Ces amendements visent à supprimer l'article ...</td>\n",
       "      <td>Agit contre les animaux</td>\n",
       "      <td>elevage</td>\n",
       "    </tr>\n",
       "    <tr>\n",
       "      <th>13</th>\n",
       "      <td>Amendement CE5 visant à interdire les «fermes-...</td>\n",
       "      <td>Éradiquer la souffrance animale passe par un...</td>\n",
       "      <td>Agit pour les animaux</td>\n",
       "      <td>elevage</td>\n",
       "    </tr>\n",
       "    <tr>\n",
       "      <th>14</th>\n",
       "      <td>Amendements CE18, CE20, CE21 et CE30 contre l'...</td>\n",
       "      <td>Ces amendements visent à supprimer ou vider d...</td>\n",
       "      <td>Agit contre les animaux</td>\n",
       "      <td>chasse</td>\n",
       "    </tr>\n",
       "    <tr>\n",
       "      <th>15</th>\n",
       "      <td>Amendement CE33 visant à introduire l'éthique ...</td>\n",
       "      <td>AMENDEMENT N°CE33 présenté par Mme Cazebonne,...</td>\n",
       "      <td>Agit pour les animaux</td>\n",
       "      <td>droit-animal</td>\n",
       "    </tr>\n",
       "    <tr>\n",
       "      <th>16</th>\n",
       "      <td>Amendements CE9, CE11 et CE16 contre l'inscrip...</td>\n",
       "      <td>Ces amendements visent à vider de sa portée l...</td>\n",
       "      <td>Agit contre les animaux</td>\n",
       "      <td>zoo-cirque</td>\n",
       "    </tr>\n",
       "    <tr>\n",
       "      <th>17</th>\n",
       "      <td>Proposition de loi n°3338 visant aggraver les ...</td>\n",
       "      <td>PROPOSITION DE LOI visant à aggraver les sanc...</td>\n",
       "      <td>Agit pour les animaux</td>\n",
       "      <td>animaux-de-compagnie</td>\n",
       "    </tr>\n",
       "    <tr>\n",
       "      <th>18</th>\n",
       "      <td>Proposition de loi N°3308 visant à interdire l...</td>\n",
       "      <td>N° 3308 _____ ASSEMBLÉE  NATIONALE CONSTITUTI...</td>\n",
       "      <td>Agit pour les animaux</td>\n",
       "      <td>elevage</td>\n",
       "    </tr>\n",
       "    <tr>\n",
       "      <th>19</th>\n",
       "      <td>La Région Ile-de-France crée un label régional...</td>\n",
       "      <td>Les critères du label « Ville amie des anima...</td>\n",
       "      <td>Agit pour les animaux</td>\n",
       "      <td>animaux-de-compagnie</td>\n",
       "    </tr>\n",
       "    <tr>\n",
       "      <th>20</th>\n",
       "      <td>Ces parlementaires soutiennent le «Référendum ...</td>\n",
       "      <td>Avec cette initiative, nous demandons à ce q...</td>\n",
       "      <td>Agit pour les animaux</td>\n",
       "      <td>zoo-cirque</td>\n",
       "    </tr>\n",
       "    <tr>\n",
       "      <th>21</th>\n",
       "      <td>Ces parlementaires soutiennent le «Référendum ...</td>\n",
       "      <td>Avec cette initiative, nous demandons à ce q...</td>\n",
       "      <td>Agit pour les animaux</td>\n",
       "      <td>chasse</td>\n",
       "    </tr>\n",
       "    <tr>\n",
       "      <th>22</th>\n",
       "      <td>Ces parlementaires soutiennent le «Référendum ...</td>\n",
       "      <td>Avec cette initiative, nous demandons à ce q...</td>\n",
       "      <td>Agit pour les animaux</td>\n",
       "      <td>elevage</td>\n",
       "    </tr>\n",
       "    <tr>\n",
       "      <th>23</th>\n",
       "      <td>Ces parlementaires soutiennent le «Référendum ...</td>\n",
       "      <td>Avec cette initiative, nous demandons à ce q...</td>\n",
       "      <td>Agit pour les animaux</td>\n",
       "      <td>experimentation-animale</td>\n",
       "    </tr>\n",
       "    <tr>\n",
       "      <th>24</th>\n",
       "      <td>Ces parlementaires ne soutiennent pas encore l...</td>\n",
       "      <td>Avec cette initiative, nous demandons à ce q...</td>\n",
       "      <td>Penche contre les animaux</td>\n",
       "      <td>zoo-cirque</td>\n",
       "    </tr>\n",
       "    <tr>\n",
       "      <th>25</th>\n",
       "      <td>Ces parlementaires ne soutiennent pas encore l...</td>\n",
       "      <td>Avec cette initiative, nous demandons à ce q...</td>\n",
       "      <td>Penche contre les animaux</td>\n",
       "      <td>chasse</td>\n",
       "    </tr>\n",
       "    <tr>\n",
       "      <th>26</th>\n",
       "      <td>Ces parlementaires ne soutiennent pas encore l...</td>\n",
       "      <td>Avec cette initiative, nous demandons à ce q...</td>\n",
       "      <td>Penche contre les animaux</td>\n",
       "      <td>elevage</td>\n",
       "    </tr>\n",
       "    <tr>\n",
       "      <th>27</th>\n",
       "      <td>Ces parlementaires ne soutiennent pas encore l...</td>\n",
       "      <td>Avec cette initiative, nous demandons à ce q...</td>\n",
       "      <td>Penche contre les animaux</td>\n",
       "      <td>experimentation-animale</td>\n",
       "    </tr>\n",
       "    <tr>\n",
       "      <th>28</th>\n",
       "      <td>Référendum pour les animaux : le président du ...</td>\n",
       "      <td>Sur le fond vous connaissez mon attachement à...</td>\n",
       "      <td>Agit contre les animaux</td>\n",
       "      <td>chasse</td>\n",
       "    </tr>\n",
       "    <tr>\n",
       "      <th>29</th>\n",
       "      <td>Suspension de la chasse à la glu pour un an</td>\n",
       "      <td>Depuis des années la LPO se bat pour obtenir ...</td>\n",
       "      <td>Penche pour les animaux</td>\n",
       "      <td>chasse</td>\n",
       "    </tr>\n",
       "  </tbody>\n",
       "</table>\n",
       "</div>"
      ],
      "text/plain": [
       "                                                titre  \\\n",
       "0   Le député Loïc Dombreval demande au gouverneme...   \n",
       "1   Ces maires ont attribué une délégation conditi...   \n",
       "2   Tribune en faveur de la censure du débat publi...   \n",
       "3   Proposition de loi n°1896 visant à abolir l’él...   \n",
       "4   3 Députés demandent au gouvernement d'intégrer...   \n",
       "5   3 Députés demandent au gouvernement d'intégrer...   \n",
       "6   Le sénateur Arnaud Bazin demande des explicati...   \n",
       "7   La ville de Montpellier vote un vœu visant à i...   \n",
       "8   Éric Piolle, maire de Grenoble, soutient le Ré...   \n",
       "9   Anne Hidalgo, maire de Paris, et Christophe Na...   \n",
       "10  Tours baptise un jardin du nom de l'éléphant F...   \n",
       "11  La ville de Pessac adopte une motion «en faveu...   \n",
       "12  Amendements CE17 et CE29 contre la fin progres...   \n",
       "13  Amendement CE5 visant à interdire les «fermes-...   \n",
       "14  Amendements CE18, CE20, CE21 et CE30 contre l'...   \n",
       "15  Amendement CE33 visant à introduire l'éthique ...   \n",
       "16  Amendements CE9, CE11 et CE16 contre l'inscrip...   \n",
       "17  Proposition de loi n°3338 visant aggraver les ...   \n",
       "18  Proposition de loi N°3308 visant à interdire l...   \n",
       "19  La Région Ile-de-France crée un label régional...   \n",
       "20  Ces parlementaires soutiennent le «Référendum ...   \n",
       "21  Ces parlementaires soutiennent le «Référendum ...   \n",
       "22  Ces parlementaires soutiennent le «Référendum ...   \n",
       "23  Ces parlementaires soutiennent le «Référendum ...   \n",
       "24  Ces parlementaires ne soutiennent pas encore l...   \n",
       "25  Ces parlementaires ne soutiennent pas encore l...   \n",
       "26  Ces parlementaires ne soutiennent pas encore l...   \n",
       "27  Ces parlementaires ne soutiennent pas encore l...   \n",
       "28  Référendum pour les animaux : le président du ...   \n",
       "29        Suspension de la chasse à la glu pour un an   \n",
       "\n",
       "                                          description  \\\n",
       "0    .@LoicDombreval se prononce pour une anticipa...   \n",
       "1    Ces maires ont attribué à un conseiller ou un...   \n",
       "2    Soutien assumé à la convention « Déméter », d...   \n",
       "3    En France, il est interdit de fabriquer et ve...   \n",
       "4    Question écrite de M. Dimitri Houbron député ...   \n",
       "5    Question écrite de M. Dimitri Houbron député ...   \n",
       "6    Question écrite n° 18999 de M. Arnaud Bazin  ...   \n",
       "7    Le Conseil municipal de la ville de Montpelli...   \n",
       "8    Dans une vidéo publiée sur le compte Twitter ...   \n",
       "9    À l'occasion de la journée mondiale des anima...   \n",
       "10   Extrait du site de la ville de Tours :  Homma...   \n",
       "11   CONSEIL MUNICIPAL DU MARDI 29 SEPTEMBRE 2020 ...   \n",
       "12   Ces amendements visent à supprimer l'article ...   \n",
       "13    Éradiquer la souffrance animale passe par un...   \n",
       "14   Ces amendements visent à supprimer ou vider d...   \n",
       "15   AMENDEMENT N°CE33 présenté par Mme Cazebonne,...   \n",
       "16   Ces amendements visent à vider de sa portée l...   \n",
       "17   PROPOSITION DE LOI visant à aggraver les sanc...   \n",
       "18   N° 3308 _____ ASSEMBLÉE  NATIONALE CONSTITUTI...   \n",
       "19    Les critères du label « Ville amie des anima...   \n",
       "20    Avec cette initiative, nous demandons à ce q...   \n",
       "21    Avec cette initiative, nous demandons à ce q...   \n",
       "22    Avec cette initiative, nous demandons à ce q...   \n",
       "23    Avec cette initiative, nous demandons à ce q...   \n",
       "24    Avec cette initiative, nous demandons à ce q...   \n",
       "25    Avec cette initiative, nous demandons à ce q...   \n",
       "26    Avec cette initiative, nous demandons à ce q...   \n",
       "27    Avec cette initiative, nous demandons à ce q...   \n",
       "28   Sur le fond vous connaissez mon attachement à...   \n",
       "29   Depuis des années la LPO se bat pour obtenir ...   \n",
       "\n",
       "                     position                    theme  \n",
       "0       Agit pour les animaux                  elevage  \n",
       "1       Agit pour les animaux             droit-animal  \n",
       "2     Agit contre les animaux                  elevage  \n",
       "3       Agit pour les animaux                  elevage  \n",
       "4       Agit pour les animaux         mer-pisciculture  \n",
       "5       Agit pour les animaux                  elevage  \n",
       "6       Agit pour les animaux  experimentation-animale  \n",
       "7       Agit pour les animaux               zoo-cirque  \n",
       "8       Agit pour les animaux             droit-animal  \n",
       "9       Agit pour les animaux             droit-animal  \n",
       "10      Agit pour les animaux             droit-animal  \n",
       "11      Agit pour les animaux             droit-animal  \n",
       "12    Agit contre les animaux                  elevage  \n",
       "13      Agit pour les animaux                  elevage  \n",
       "14    Agit contre les animaux                   chasse  \n",
       "15      Agit pour les animaux             droit-animal  \n",
       "16    Agit contre les animaux               zoo-cirque  \n",
       "17      Agit pour les animaux     animaux-de-compagnie  \n",
       "18      Agit pour les animaux                  elevage  \n",
       "19      Agit pour les animaux     animaux-de-compagnie  \n",
       "20      Agit pour les animaux               zoo-cirque  \n",
       "21      Agit pour les animaux                   chasse  \n",
       "22      Agit pour les animaux                  elevage  \n",
       "23      Agit pour les animaux  experimentation-animale  \n",
       "24  Penche contre les animaux               zoo-cirque  \n",
       "25  Penche contre les animaux                   chasse  \n",
       "26  Penche contre les animaux                  elevage  \n",
       "27  Penche contre les animaux  experimentation-animale  \n",
       "28    Agit contre les animaux                   chasse  \n",
       "29    Penche pour les animaux                   chasse  "
      ]
     },
     "execution_count": 8,
     "metadata": {},
     "output_type": "execute_result"
    }
   ],
   "source": [
    " opinion_df.head(30)"
   ]
  },
  {
   "cell_type": "markdown",
   "metadata": {},
   "source": [
    "## Suppression des doublons de colonnes titre et description "
   ]
  },
  {
   "cell_type": "code",
   "execution_count": 9,
   "metadata": {},
   "outputs": [],
   "source": [
    "opinion_df_clean3 = opinion_df.drop_duplicates(subset=['titre', 'description'])"
   ]
  },
  {
   "cell_type": "code",
   "execution_count": 10,
   "metadata": {
    "scrolled": true
   },
   "outputs": [
    {
     "data": {
      "text/plain": [
       "Agit pour les animaux        3399\n",
       "Agit contre les animaux      2511\n",
       "Penche pour les animaux       523\n",
       "Penche contre les animaux     290\n",
       "Name: position, dtype: int64"
      ]
     },
     "execution_count": 10,
     "metadata": {},
     "output_type": "execute_result"
    }
   ],
   "source": [
    " opinion_df_clean3.position.value_counts()"
   ]
  },
  {
   "cell_type": "markdown",
   "metadata": {},
   "source": [
    "## Remplacement des index manquants (supprimés avec drop_duplicates) par de nouveaux index réordonnés"
   ]
  },
  {
   "cell_type": "code",
   "execution_count": 11,
   "metadata": {},
   "outputs": [],
   "source": [
    " opinion_df_clean3 = opinion_df_clean3.reset_index(drop=True)"
   ]
  },
  {
   "cell_type": "markdown",
   "metadata": {},
   "source": [
    "## Remplacement le jeu de données initial par le jeu de données nettoyé"
   ]
  },
  {
   "cell_type": "code",
   "execution_count": 12,
   "metadata": {},
   "outputs": [],
   "source": [
    "opinion_df = opinion_df_clean3"
   ]
  },
  {
   "cell_type": "markdown",
   "metadata": {},
   "source": [
    "## Extraction pour position"
   ]
  },
  {
   "cell_type": "code",
   "execution_count": null,
   "metadata": {},
   "outputs": [],
   "source": [
    "X = opinion_df[[\"titre\", \"description\"]]\n",
    "y = opinion_df.position"
   ]
  },
  {
   "cell_type": "code",
   "execution_count": null,
   "metadata": {},
   "outputs": [],
   "source": [
    "X_train, X_test, y_train, y_test = train_test_split(X, y, test_size=0.2)"
   ]
  },
  {
   "cell_type": "markdown",
   "metadata": {},
   "source": [
    "## Créations des différentes fonctions utilisées"
   ]
  },
  {
   "cell_type": "code",
   "execution_count": null,
   "metadata": {},
   "outputs": [],
   "source": [
    "class SingleColumnSelector(BaseEstimator, TransformerMixin):\n",
    "    def __init__(self, key):\n",
    "        self.key = key\n",
    "    \n",
    "    def fit(self, X, y=None):\n",
    "        return self\n",
    "    \n",
    "    def transform(self, data_dict):\n",
    "        return data_dict[self.key]\n",
    "    \n",
    "class MultiColumnSelector(BaseEstimator, TransformerMixin):\n",
    "    def __init__(self, columns):\n",
    "        self.columns = columns\n",
    "\n",
    "    def fit(self, X, y=None):\n",
    "        return self\n",
    "\n",
    "    def transform(self, X):\n",
    "        assert isinstance(X, pd.DataFrame)\n",
    "\n",
    "        try:\n",
    "            return X[self.columns].to_dict('records')\n",
    "        except KeyError:\n",
    "            cols_error = list(set(self.columns) - set(X.columns))\n",
    "            raise KeyError(\"The DataFrame does not include the columns: %s\" % cols_error)"
   ]
  },
  {
   "cell_type": "code",
   "execution_count": null,
   "metadata": {},
   "outputs": [],
   "source": [
    "def split_into_tokens_nltk(desc) :\n",
    "    return word_tokenize(desc)"
   ]
  },
  {
   "cell_type": "code",
   "execution_count": null,
   "metadata": {},
   "outputs": [],
   "source": [
    "fs = FrenchStemmer()\n",
    "def split_into_stems(desc):\n",
    "    words = word_tokenize(desc)\n",
    "    return [fs.stem(w) for w in words]"
   ]
  },
  {
   "cell_type": "markdown",
   "metadata": {},
   "source": [
    "## Liste des nombres et lois + signes de ponctuation"
   ]
  },
  {
   "cell_type": "code",
   "execution_count": null,
   "metadata": {},
   "outputs": [],
   "source": [
    "stopwords = open('stopwords_list.txt','r').read().split()\n",
    "nblaw_stopwords = stopwords+list(string.punctuation)"
   ]
  },
  {
   "cell_type": "markdown",
   "metadata": {},
   "source": [
    "## Pipeline pour la colonne titre + transformation du texte en sac de mots avec CountVectorizer"
   ]
  },
  {
   "cell_type": "code",
   "execution_count": null,
   "metadata": {},
   "outputs": [],
   "source": [
    "var_vectorizer = CountVectorizer(tokenizer=split_into_stems, lowercase=True, stop_words=nblaw_stopwords, min_df=0.01)\n",
    "    \n",
    "title_pipeline = make_pipeline(\n",
    "    # Sélection de la colonne titre\n",
    "    SingleColumnSelector(key=\"titre\"),\n",
    "    var_vectorizer\n",
    ")"
   ]
  },
  {
   "cell_type": "markdown",
   "metadata": {},
   "source": [
    "## Pipeline pour la colonne description + transformation du texte en vecteurs avec TfidfVectorizer"
   ]
  },
  {
   "cell_type": "code",
   "execution_count": null,
   "metadata": {},
   "outputs": [],
   "source": [
    "desc_vectorizer = TfidfVectorizer(tokenizer=split_into_stems,lowercase=True, stop_words=nblaw_stopwords, min_df=0.01)\n",
    "\n",
    "description_pipeline = make_pipeline(\n",
    "    SingleColumnSelector(key=\"description\"),\n",
    "    desc_vectorizer\n",
    ")"
   ]
  },
  {
   "cell_type": "markdown",
   "metadata": {},
   "source": [
    "## Union des pipelines de pré-traitement"
   ]
  },
  {
   "cell_type": "code",
   "execution_count": null,
   "metadata": {},
   "outputs": [],
   "source": [
    "union = FeatureUnion(transformer_list= [\n",
    "    (\"description_features\", description_pipeline),\n",
    "    (\"titre_features\", title_pipeline)\n",
    "])\n",
    "\n",
    "# Chaîne de pré-traitement globale\n",
    "preprocess_pipeline = make_pipeline(\n",
    "        union\n",
    ")"
   ]
  }
 ],
 "metadata": {
  "kernelspec": {
   "display_name": "Python 3",
   "language": "python",
   "name": "python3"
  },
  "language_info": {
   "codemirror_mode": {
    "name": "ipython",
    "version": 3
   },
   "file_extension": ".py",
   "mimetype": "text/x-python",
   "name": "python",
   "nbconvert_exporter": "python",
   "pygments_lexer": "ipython3",
   "version": "3.8.5"
  }
 },
 "nbformat": 4,
 "nbformat_minor": 2
}
