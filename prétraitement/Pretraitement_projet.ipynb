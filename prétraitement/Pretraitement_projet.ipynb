{
 "cells": [
  {
   "cell_type": "markdown",
   "metadata": {},
   "source": [
    "# Pré-traitement des données"
   ]
  },
  {
   "cell_type": "markdown",
   "metadata": {},
   "source": [
    "## Lecture du fichier CSVet création de la dataframe"
   ]
  },
  {
   "cell_type": "code",
   "execution_count": 1,
   "metadata": {
    "scrolled": true
   },
   "outputs": [
    {
     "data": {
      "text/html": [
       "<div>\n",
       "<style scoped>\n",
       "    .dataframe tbody tr th:only-of-type {\n",
       "        vertical-align: middle;\n",
       "    }\n",
       "\n",
       "    .dataframe tbody tr th {\n",
       "        vertical-align: top;\n",
       "    }\n",
       "\n",
       "    .dataframe thead th {\n",
       "        text-align: right;\n",
       "    }\n",
       "</style>\n",
       "<table border=\"1\" class=\"dataframe\">\n",
       "  <thead>\n",
       "    <tr style=\"text-align: right;\">\n",
       "      <th></th>\n",
       "      <th>titre</th>\n",
       "      <th>description</th>\n",
       "      <th>position</th>\n",
       "      <th>theme</th>\n",
       "    </tr>\n",
       "  </thead>\n",
       "  <tbody>\n",
       "    <tr>\n",
       "      <th>0</th>\n",
       "      <td>Le député Loïc Dombreval demande au gouverneme...</td>\n",
       "      <td>.@LoicDombreval se prononce pour une anticipa...</td>\n",
       "      <td>Agit pour les animaux</td>\n",
       "      <td>elevage</td>\n",
       "    </tr>\n",
       "    <tr>\n",
       "      <th>1</th>\n",
       "      <td>Ces maires ont attribué une délégation conditi...</td>\n",
       "      <td>Ces maires ont attribué à un conseiller ou un...</td>\n",
       "      <td>Agit pour les animaux</td>\n",
       "      <td>droit-animal</td>\n",
       "    </tr>\n",
       "    <tr>\n",
       "      <th>2</th>\n",
       "      <td>Tribune en faveur de la censure du débat publi...</td>\n",
       "      <td>Soutien assumé à la convention « Déméter », d...</td>\n",
       "      <td>Agit contre les animaux</td>\n",
       "      <td>elevage</td>\n",
       "    </tr>\n",
       "    <tr>\n",
       "      <th>3</th>\n",
       "      <td>Proposition de loi n°1896 visant à abolir l’él...</td>\n",
       "      <td>En France, il est interdit de fabriquer et ve...</td>\n",
       "      <td>Agit pour les animaux</td>\n",
       "      <td>elevage</td>\n",
       "    </tr>\n",
       "    <tr>\n",
       "      <th>4</th>\n",
       "      <td>3 Députés demandent au gouvernement d'intégrer...</td>\n",
       "      <td>Question écrite de M. Dimitri Houbron député ...</td>\n",
       "      <td>Agit pour les animaux</td>\n",
       "      <td>mer-pisciculture</td>\n",
       "    </tr>\n",
       "  </tbody>\n",
       "</table>\n",
       "</div>"
      ],
      "text/plain": [
       "                                               titre  \\\n",
       "0  Le député Loïc Dombreval demande au gouverneme...   \n",
       "1  Ces maires ont attribué une délégation conditi...   \n",
       "2  Tribune en faveur de la censure du débat publi...   \n",
       "3  Proposition de loi n°1896 visant à abolir l’él...   \n",
       "4  3 Députés demandent au gouvernement d'intégrer...   \n",
       "\n",
       "                                         description                 position  \\\n",
       "0   .@LoicDombreval se prononce pour une anticipa...    Agit pour les animaux   \n",
       "1   Ces maires ont attribué à un conseiller ou un...    Agit pour les animaux   \n",
       "2   Soutien assumé à la convention « Déméter », d...  Agit contre les animaux   \n",
       "3   En France, il est interdit de fabriquer et ve...    Agit pour les animaux   \n",
       "4   Question écrite de M. Dimitri Houbron député ...    Agit pour les animaux   \n",
       "\n",
       "              theme  \n",
       "0           elevage  \n",
       "1      droit-animal  \n",
       "2           elevage  \n",
       "3           elevage  \n",
       "4  mer-pisciculture  "
      ]
     },
     "execution_count": 1,
     "metadata": {},
     "output_type": "execute_result"
    }
   ],
   "source": [
    "import pandas as pd\n",
    "\n",
    "opinion_df = pd.read_csv (\"./data_website_tab.csv\", sep=\"\\t\", names=[\"titre\", \"description\",\"position\",\"theme\"],dtype={\"titre\":\"object\",\"description\":\"object\",\"position\":\"category\",\"theme\":\"category\"},header=None)\n",
    "opinion_df.head()"
   ]
  },
  {
   "cell_type": "markdown",
   "metadata": {},
   "source": [
    "## Vérification lignes vides"
   ]
  },
  {
   "cell_type": "code",
   "execution_count": 2,
   "metadata": {
    "scrolled": true
   },
   "outputs": [
    {
     "name": "stdout",
     "output_type": "stream",
     "text": [
      "<class 'pandas.core.frame.DataFrame'>\n",
      "RangeIndex: 7590 entries, 0 to 7589\n",
      "Data columns (total 4 columns):\n",
      "titre          7590 non-null object\n",
      "description    7590 non-null object\n",
      "position       7588 non-null category\n",
      "theme          7590 non-null category\n",
      "dtypes: category(2), object(2)\n",
      "memory usage: 134.1+ KB\n"
     ]
    }
   ],
   "source": [
    "opinion_df.info()"
   ]
  },
  {
   "cell_type": "markdown",
   "metadata": {},
   "source": [
    "## Suppression des lignes vides"
   ]
  },
  {
   "cell_type": "code",
   "execution_count": 3,
   "metadata": {
    "scrolled": true
   },
   "outputs": [
    {
     "name": "stdout",
     "output_type": "stream",
     "text": [
      "<class 'pandas.core.frame.DataFrame'>\n",
      "Int64Index: 7588 entries, 0 to 7589\n",
      "Data columns (total 4 columns):\n",
      "titre          7588 non-null object\n",
      "description    7588 non-null object\n",
      "position       7588 non-null category\n",
      "theme          7588 non-null category\n",
      "dtypes: category(2), object(2)\n",
      "memory usage: 193.2+ KB\n"
     ]
    }
   ],
   "source": [
    "opinion_df_clean = opinion_df.dropna(how='any')\n",
    "opinion_df_clean.info()"
   ]
  },
  {
   "cell_type": "markdown",
   "metadata": {},
   "source": [
    "## Récupération des index des lignes sans texte ne contenant que des espaces \n"
   ]
  },
  {
   "cell_type": "code",
   "execution_count": 4,
   "metadata": {
    "scrolled": true
   },
   "outputs": [
    {
     "data": {
      "text/plain": [
       "Int64Index([  58,   59,   60,   61,  146,  176,  178,  180,  365,  392,  561,\n",
       "             581,  583,  771,  772,  894,  895, 1038, 1098, 1355, 1356, 1407,\n",
       "            1521, 1747, 2384, 2711, 2841, 3133, 4134, 5373],\n",
       "           dtype='int64')"
      ]
     },
     "execution_count": 4,
     "metadata": {},
     "output_type": "execute_result"
    }
   ],
   "source": [
    "opinion_df_spaces = opinion_df_clean[(opinion_df_clean.description == \" \") |(opinion_df_clean.description == \"  \")]\n",
    "opinion_df_spaces.index"
   ]
  },
  {
   "cell_type": "markdown",
   "metadata": {},
   "source": [
    "## Suppression des lignes ayant uniquement des espaces"
   ]
  },
  {
   "cell_type": "code",
   "execution_count": 5,
   "metadata": {},
   "outputs": [],
   "source": [
    "opinion_df_clean2 = opinion_df_clean.drop(index=opinion_df_spaces.index)"
   ]
  },
  {
   "cell_type": "markdown",
   "metadata": {},
   "source": [
    "## Vérification résultats"
   ]
  },
  {
   "cell_type": "code",
   "execution_count": 6,
   "metadata": {
    "scrolled": true
   },
   "outputs": [
    {
     "name": "stdout",
     "output_type": "stream",
     "text": [
      "<class 'pandas.core.frame.DataFrame'>\n",
      "Int64Index: 7558 entries, 0 to 7589\n",
      "Data columns (total 4 columns):\n",
      "titre          7558 non-null object\n",
      "description    7558 non-null object\n",
      "position       7558 non-null category\n",
      "theme          7558 non-null category\n",
      "dtypes: category(2), object(2)\n",
      "memory usage: 192.5+ KB\n"
     ]
    }
   ],
   "source": [
    "opinion_df_clean2.info()"
   ]
  },
  {
   "cell_type": "markdown",
   "metadata": {},
   "source": [
    "## Remplacement du jeu de données initial par le jeu de données nettoyé"
   ]
  },
  {
   "cell_type": "code",
   "execution_count": 7,
   "metadata": {},
   "outputs": [],
   "source": [
    "opinion_df= opinion_df_clean2"
   ]
  },
  {
   "cell_type": "markdown",
   "metadata": {},
   "source": [
    "## Nombre de lignes pour chaque position"
   ]
  },
  {
   "cell_type": "code",
   "execution_count": 8,
   "metadata": {
    "scrolled": true
   },
   "outputs": [
    {
     "data": {
      "text/plain": [
       "Agit pour les animaux        3899\n",
       "Agit contre les animaux      2768\n",
       "Penche pour les animaux       565\n",
       "Penche contre les animaux     326\n",
       "Name: position, dtype: int64"
      ]
     },
     "execution_count": 8,
     "metadata": {},
     "output_type": "execute_result"
    }
   ],
   "source": [
    "opinion_df.position.value_counts()"
   ]
  },
  {
   "cell_type": "markdown",
   "metadata": {},
   "source": [
    "## Nombre de lignes pour chaque thème"
   ]
  },
  {
   "cell_type": "code",
   "execution_count": 9,
   "metadata": {
    "scrolled": true
   },
   "outputs": [
    {
     "data": {
      "text/plain": [
       "elevage                    2214\n",
       "chasse                     1765\n",
       "zoo-cirque                  748\n",
       "mer-pisciculture            712\n",
       "animaux-de-compagnie        687\n",
       "droit-animal                653\n",
       "corrida                     511\n",
       "experimentation-animale     268\n",
       "Name: theme, dtype: int64"
      ]
     },
     "execution_count": 9,
     "metadata": {},
     "output_type": "execute_result"
    }
   ],
   "source": [
    "opinion_df.theme.value_counts()"
   ]
  },
  {
   "cell_type": "markdown",
   "metadata": {},
   "source": [
    "## Création d'une fonction pour découper texte en mots"
   ]
  },
  {
   "cell_type": "code",
   "execution_count": 10,
   "metadata": {},
   "outputs": [],
   "source": [
    "import nltk\n",
    "from nltk.tokenize import word_tokenize\n",
    "\n",
    "def split_into_tokens_nltk(desc) :\n",
    "    return word_tokenize(desc)"
   ]
  },
  {
   "cell_type": "markdown",
   "metadata": {},
   "source": [
    "## Tokenisation du texte dans la colonne description"
   ]
  },
  {
   "cell_type": "code",
   "execution_count": 11,
   "metadata": {
    "scrolled": true
   },
   "outputs": [
    {
     "data": {
      "text/plain": [
       "0    [., @, LoicDombreval, se, prononce, pour, une,...\n",
       "1    [Ces, maires, ont, attribué, à, un, conseiller...\n",
       "2    [Soutien, assumé, à, la, convention, «, Déméte...\n",
       "3    [En, France, ,, il, est, interdit, de, fabriqu...\n",
       "4    [Question, écrite, de, M., Dimitri, Houbron, d...\n",
       "Name: description, dtype: object"
      ]
     },
     "execution_count": 11,
     "metadata": {},
     "output_type": "execute_result"
    }
   ],
   "source": [
    "opinion_df.description.head().apply(split_into_tokens_nltk)"
   ]
  },
  {
   "cell_type": "markdown",
   "metadata": {},
   "source": [
    "## Création d'une fonction pour la désuffixation"
   ]
  },
  {
   "cell_type": "code",
   "execution_count": 12,
   "metadata": {},
   "outputs": [],
   "source": [
    "from nltk.stem.snowball import FrenchStemmer\n",
    "\n",
    "fs = FrenchStemmer()\n",
    "def split_into_stems(desc):\n",
    "    words = word_tokenize(desc)\n",
    "    return [fs.stem(w) for w in words]"
   ]
  },
  {
   "cell_type": "markdown",
   "metadata": {},
   "source": [
    "## Désuffixation du texte dans la colonne description"
   ]
  },
  {
   "cell_type": "code",
   "execution_count": 13,
   "metadata": {
    "scrolled": true
   },
   "outputs": [
    {
     "data": {
      "text/plain": [
       "0    [., @, loicdombreval, se, prononc, pour, une, ...\n",
       "1    [ce, mair, ont, attribu, à, un, conseil, ou, u...\n",
       "2    [soutien, assum, à, la, convent, «, démet, », ...\n",
       "3    [en, franc, ,, il, est, interd, de, fabriqu, e...\n",
       "4    [question, écrit, de, m., dimitr, houbron, dép...\n",
       "Name: description, dtype: object"
      ]
     },
     "execution_count": 13,
     "metadata": {},
     "output_type": "execute_result"
    }
   ],
   "source": [
    "opinion_df.description.head().apply(split_into_stems)"
   ]
  },
  {
   "cell_type": "markdown",
   "metadata": {},
   "source": [
    "## Transformation du texte en vecteur avec CountVectorizer\n"
   ]
  },
  {
   "cell_type": "code",
   "execution_count": 14,
   "metadata": {
    "scrolled": true
   },
   "outputs": [
    {
     "name": "stdout",
     "output_type": "stream",
     "text": [
      "2264\n"
     ]
    }
   ],
   "source": [
    "from sklearn.feature_extraction.text import CountVectorizer\n",
    "bow_transformer = CountVectorizer(tokenizer=split_into_stems, lowercase=True, min_df=0.01)\n",
    "bow_transformer.fit(opinion_df['description'])\n",
    "print(len(bow_transformer.vocabulary_))"
   ]
  },
  {
   "cell_type": "markdown",
   "metadata": {},
   "source": [
    "## Transformation des descriptions en vecteurs"
   ]
  },
  {
   "cell_type": "code",
   "execution_count": 15,
   "metadata": {},
   "outputs": [],
   "source": [
    "descriptions_bow = bow_transformer.transform(opinion_df['description'])"
   ]
  },
  {
   "cell_type": "markdown",
   "metadata": {},
   "source": [
    "## Transformation des fréquences de sac de mots et calcul du tfidf pour chaque attribut\n"
   ]
  },
  {
   "cell_type": "code",
   "execution_count": 16,
   "metadata": {},
   "outputs": [],
   "source": [
    "from sklearn.feature_extraction.text import TfidfTransformer\n",
    "tfidf_transformer = TfidfTransformer().fit(descriptions_bow)\n",
    "descriptions_tfidf = tfidf_transformer.transform(descriptions_bow)"
   ]
  },
  {
   "cell_type": "markdown",
   "metadata": {},
   "source": [
    "## Récupération des noms de colonnes et ajout du préfixe l_ + transformation du sac de mots en Dataframe"
   ]
  },
  {
   "cell_type": "code",
   "execution_count": 17,
   "metadata": {},
   "outputs": [],
   "source": [
    "vocab = [\"l_\" + v for v in bow_transformer.get_feature_names()]\n",
    "\n",
    "tfidf_df = pd.DataFrame(descriptions_tfidf.toarray(), columns=vocab)"
   ]
  },
  {
   "cell_type": "markdown",
   "metadata": {},
   "source": [
    "## Affichage des premières lignes de la DataFrame des sacs de mots"
   ]
  },
  {
   "cell_type": "code",
   "execution_count": 18,
   "metadata": {
    "scrolled": true
   },
   "outputs": [
    {
     "data": {
      "text/html": [
       "<div>\n",
       "<style scoped>\n",
       "    .dataframe tbody tr th:only-of-type {\n",
       "        vertical-align: middle;\n",
       "    }\n",
       "\n",
       "    .dataframe tbody tr th {\n",
       "        vertical-align: top;\n",
       "    }\n",
       "\n",
       "    .dataframe thead th {\n",
       "        text-align: right;\n",
       "    }\n",
       "</style>\n",
       "<table border=\"1\" class=\"dataframe\">\n",
       "  <thead>\n",
       "    <tr style=\"text-align: right;\">\n",
       "      <th></th>\n",
       "      <th>l_!</th>\n",
       "      <th>l_#</th>\n",
       "      <th>l_%</th>\n",
       "      <th>l_&amp;</th>\n",
       "      <th>l_'</th>\n",
       "      <th>l_''</th>\n",
       "      <th>l_(</th>\n",
       "      <th>l_)</th>\n",
       "      <th>l_,</th>\n",
       "      <th>l_-</th>\n",
       "      <th>...</th>\n",
       "      <th>l_évoqu</th>\n",
       "      <th>l_être</th>\n",
       "      <th>l_œuf</th>\n",
       "      <th>l_œuvr</th>\n",
       "      <th>l_–</th>\n",
       "      <th>l_’</th>\n",
       "      <th>l_“</th>\n",
       "      <th>l_”</th>\n",
       "      <th>l_…</th>\n",
       "      <th>l_€</th>\n",
       "    </tr>\n",
       "  </thead>\n",
       "  <tbody>\n",
       "    <tr>\n",
       "      <th>0</th>\n",
       "      <td>0.0</td>\n",
       "      <td>0.743203</td>\n",
       "      <td>0.000000</td>\n",
       "      <td>0.0</td>\n",
       "      <td>0.000000</td>\n",
       "      <td>0.0</td>\n",
       "      <td>0.053354</td>\n",
       "      <td>0.053362</td>\n",
       "      <td>0.094691</td>\n",
       "      <td>0.000000</td>\n",
       "      <td>...</td>\n",
       "      <td>0.0</td>\n",
       "      <td>0.000000</td>\n",
       "      <td>0.000000</td>\n",
       "      <td>0.000000</td>\n",
       "      <td>0.000000</td>\n",
       "      <td>0.000000</td>\n",
       "      <td>0.0</td>\n",
       "      <td>0.0</td>\n",
       "      <td>0.0</td>\n",
       "      <td>0.0</td>\n",
       "    </tr>\n",
       "    <tr>\n",
       "      <th>1</th>\n",
       "      <td>0.0</td>\n",
       "      <td>0.000000</td>\n",
       "      <td>0.000000</td>\n",
       "      <td>0.0</td>\n",
       "      <td>0.000000</td>\n",
       "      <td>0.0</td>\n",
       "      <td>0.068274</td>\n",
       "      <td>0.068284</td>\n",
       "      <td>0.181756</td>\n",
       "      <td>0.000000</td>\n",
       "      <td>...</td>\n",
       "      <td>0.0</td>\n",
       "      <td>0.000000</td>\n",
       "      <td>0.000000</td>\n",
       "      <td>0.000000</td>\n",
       "      <td>0.000000</td>\n",
       "      <td>0.000000</td>\n",
       "      <td>0.0</td>\n",
       "      <td>0.0</td>\n",
       "      <td>0.0</td>\n",
       "      <td>0.0</td>\n",
       "    </tr>\n",
       "    <tr>\n",
       "      <th>2</th>\n",
       "      <td>0.0</td>\n",
       "      <td>0.000000</td>\n",
       "      <td>0.073551</td>\n",
       "      <td>0.0</td>\n",
       "      <td>0.000000</td>\n",
       "      <td>0.0</td>\n",
       "      <td>0.030724</td>\n",
       "      <td>0.030729</td>\n",
       "      <td>0.354436</td>\n",
       "      <td>0.000000</td>\n",
       "      <td>...</td>\n",
       "      <td>0.0</td>\n",
       "      <td>0.000000</td>\n",
       "      <td>0.000000</td>\n",
       "      <td>0.000000</td>\n",
       "      <td>0.041923</td>\n",
       "      <td>0.230113</td>\n",
       "      <td>0.0</td>\n",
       "      <td>0.0</td>\n",
       "      <td>0.0</td>\n",
       "      <td>0.0</td>\n",
       "    </tr>\n",
       "    <tr>\n",
       "      <th>3</th>\n",
       "      <td>0.0</td>\n",
       "      <td>0.000000</td>\n",
       "      <td>0.032968</td>\n",
       "      <td>0.0</td>\n",
       "      <td>0.000000</td>\n",
       "      <td>0.0</td>\n",
       "      <td>0.024101</td>\n",
       "      <td>0.024104</td>\n",
       "      <td>0.556045</td>\n",
       "      <td>0.000000</td>\n",
       "      <td>...</td>\n",
       "      <td>0.0</td>\n",
       "      <td>0.025039</td>\n",
       "      <td>0.000000</td>\n",
       "      <td>0.010186</td>\n",
       "      <td>0.000000</td>\n",
       "      <td>0.375070</td>\n",
       "      <td>0.0</td>\n",
       "      <td>0.0</td>\n",
       "      <td>0.0</td>\n",
       "      <td>0.0</td>\n",
       "    </tr>\n",
       "    <tr>\n",
       "      <th>4</th>\n",
       "      <td>0.0</td>\n",
       "      <td>0.000000</td>\n",
       "      <td>0.000000</td>\n",
       "      <td>0.0</td>\n",
       "      <td>0.029153</td>\n",
       "      <td>0.0</td>\n",
       "      <td>0.054906</td>\n",
       "      <td>0.054913</td>\n",
       "      <td>0.185144</td>\n",
       "      <td>0.042344</td>\n",
       "      <td>...</td>\n",
       "      <td>0.0</td>\n",
       "      <td>0.019965</td>\n",
       "      <td>0.041323</td>\n",
       "      <td>0.000000</td>\n",
       "      <td>0.000000</td>\n",
       "      <td>0.000000</td>\n",
       "      <td>0.0</td>\n",
       "      <td>0.0</td>\n",
       "      <td>0.0</td>\n",
       "      <td>0.0</td>\n",
       "    </tr>\n",
       "  </tbody>\n",
       "</table>\n",
       "<p>5 rows × 2264 columns</p>\n",
       "</div>"
      ],
      "text/plain": [
       "   l_!       l_#       l_%  l_&       l_'  l_''       l_(       l_)       l_,  \\\n",
       "0  0.0  0.743203  0.000000  0.0  0.000000   0.0  0.053354  0.053362  0.094691   \n",
       "1  0.0  0.000000  0.000000  0.0  0.000000   0.0  0.068274  0.068284  0.181756   \n",
       "2  0.0  0.000000  0.073551  0.0  0.000000   0.0  0.030724  0.030729  0.354436   \n",
       "3  0.0  0.000000  0.032968  0.0  0.000000   0.0  0.024101  0.024104  0.556045   \n",
       "4  0.0  0.000000  0.000000  0.0  0.029153   0.0  0.054906  0.054913  0.185144   \n",
       "\n",
       "        l_-  ...  l_évoqu    l_être     l_œuf    l_œuvr       l_–       l_’  \\\n",
       "0  0.000000  ...      0.0  0.000000  0.000000  0.000000  0.000000  0.000000   \n",
       "1  0.000000  ...      0.0  0.000000  0.000000  0.000000  0.000000  0.000000   \n",
       "2  0.000000  ...      0.0  0.000000  0.000000  0.000000  0.041923  0.230113   \n",
       "3  0.000000  ...      0.0  0.025039  0.000000  0.010186  0.000000  0.375070   \n",
       "4  0.042344  ...      0.0  0.019965  0.041323  0.000000  0.000000  0.000000   \n",
       "\n",
       "   l_“  l_”  l_…  l_€  \n",
       "0  0.0  0.0  0.0  0.0  \n",
       "1  0.0  0.0  0.0  0.0  \n",
       "2  0.0  0.0  0.0  0.0  \n",
       "3  0.0  0.0  0.0  0.0  \n",
       "4  0.0  0.0  0.0  0.0  \n",
       "\n",
       "[5 rows x 2264 columns]"
      ]
     },
     "execution_count": 18,
     "metadata": {},
     "output_type": "execute_result"
    }
   ],
   "source": [
    "tfidf_df.head()"
   ]
  },
  {
   "cell_type": "markdown",
   "metadata": {},
   "source": [
    "## Création d'une nouvelle DataFrame intégrant les colonnes des sacs de mots dans la DataFrame d'origine\n"
   ]
  },
  {
   "cell_type": "code",
   "execution_count": 19,
   "metadata": {},
   "outputs": [],
   "source": [
    "opinion_descri_df =pd.concat([opinion_df,tfidf_df],axis=1)"
   ]
  },
  {
   "cell_type": "code",
   "execution_count": 20,
   "metadata": {},
   "outputs": [
    {
     "data": {
      "text/html": [
       "<div>\n",
       "<style scoped>\n",
       "    .dataframe tbody tr th:only-of-type {\n",
       "        vertical-align: middle;\n",
       "    }\n",
       "\n",
       "    .dataframe tbody tr th {\n",
       "        vertical-align: top;\n",
       "    }\n",
       "\n",
       "    .dataframe thead th {\n",
       "        text-align: right;\n",
       "    }\n",
       "</style>\n",
       "<table border=\"1\" class=\"dataframe\">\n",
       "  <thead>\n",
       "    <tr style=\"text-align: right;\">\n",
       "      <th></th>\n",
       "      <th>titre</th>\n",
       "      <th>description</th>\n",
       "      <th>position</th>\n",
       "      <th>theme</th>\n",
       "      <th>l_!</th>\n",
       "      <th>l_#</th>\n",
       "      <th>l_%</th>\n",
       "      <th>l_&amp;</th>\n",
       "      <th>l_'</th>\n",
       "      <th>l_''</th>\n",
       "      <th>...</th>\n",
       "      <th>l_évoqu</th>\n",
       "      <th>l_être</th>\n",
       "      <th>l_œuf</th>\n",
       "      <th>l_œuvr</th>\n",
       "      <th>l_–</th>\n",
       "      <th>l_’</th>\n",
       "      <th>l_“</th>\n",
       "      <th>l_”</th>\n",
       "      <th>l_…</th>\n",
       "      <th>l_€</th>\n",
       "    </tr>\n",
       "  </thead>\n",
       "  <tbody>\n",
       "    <tr>\n",
       "      <th>0</th>\n",
       "      <td>Le député Loïc Dombreval demande au gouverneme...</td>\n",
       "      <td>.@LoicDombreval se prononce pour une anticipa...</td>\n",
       "      <td>Agit pour les animaux</td>\n",
       "      <td>elevage</td>\n",
       "      <td>0.0</td>\n",
       "      <td>0.743203</td>\n",
       "      <td>0.000000</td>\n",
       "      <td>0.0</td>\n",
       "      <td>0.000000</td>\n",
       "      <td>0.0</td>\n",
       "      <td>...</td>\n",
       "      <td>0.0</td>\n",
       "      <td>0.000000</td>\n",
       "      <td>0.000000</td>\n",
       "      <td>0.000000</td>\n",
       "      <td>0.000000</td>\n",
       "      <td>0.000000</td>\n",
       "      <td>0.0</td>\n",
       "      <td>0.0</td>\n",
       "      <td>0.0</td>\n",
       "      <td>0.0</td>\n",
       "    </tr>\n",
       "    <tr>\n",
       "      <th>1</th>\n",
       "      <td>Ces maires ont attribué une délégation conditi...</td>\n",
       "      <td>Ces maires ont attribué à un conseiller ou un...</td>\n",
       "      <td>Agit pour les animaux</td>\n",
       "      <td>droit-animal</td>\n",
       "      <td>0.0</td>\n",
       "      <td>0.000000</td>\n",
       "      <td>0.000000</td>\n",
       "      <td>0.0</td>\n",
       "      <td>0.000000</td>\n",
       "      <td>0.0</td>\n",
       "      <td>...</td>\n",
       "      <td>0.0</td>\n",
       "      <td>0.000000</td>\n",
       "      <td>0.000000</td>\n",
       "      <td>0.000000</td>\n",
       "      <td>0.000000</td>\n",
       "      <td>0.000000</td>\n",
       "      <td>0.0</td>\n",
       "      <td>0.0</td>\n",
       "      <td>0.0</td>\n",
       "      <td>0.0</td>\n",
       "    </tr>\n",
       "    <tr>\n",
       "      <th>2</th>\n",
       "      <td>Tribune en faveur de la censure du débat publi...</td>\n",
       "      <td>Soutien assumé à la convention « Déméter », d...</td>\n",
       "      <td>Agit contre les animaux</td>\n",
       "      <td>elevage</td>\n",
       "      <td>0.0</td>\n",
       "      <td>0.000000</td>\n",
       "      <td>0.073551</td>\n",
       "      <td>0.0</td>\n",
       "      <td>0.000000</td>\n",
       "      <td>0.0</td>\n",
       "      <td>...</td>\n",
       "      <td>0.0</td>\n",
       "      <td>0.000000</td>\n",
       "      <td>0.000000</td>\n",
       "      <td>0.000000</td>\n",
       "      <td>0.041923</td>\n",
       "      <td>0.230113</td>\n",
       "      <td>0.0</td>\n",
       "      <td>0.0</td>\n",
       "      <td>0.0</td>\n",
       "      <td>0.0</td>\n",
       "    </tr>\n",
       "    <tr>\n",
       "      <th>3</th>\n",
       "      <td>Proposition de loi n°1896 visant à abolir l’él...</td>\n",
       "      <td>En France, il est interdit de fabriquer et ve...</td>\n",
       "      <td>Agit pour les animaux</td>\n",
       "      <td>elevage</td>\n",
       "      <td>0.0</td>\n",
       "      <td>0.000000</td>\n",
       "      <td>0.032968</td>\n",
       "      <td>0.0</td>\n",
       "      <td>0.000000</td>\n",
       "      <td>0.0</td>\n",
       "      <td>...</td>\n",
       "      <td>0.0</td>\n",
       "      <td>0.025039</td>\n",
       "      <td>0.000000</td>\n",
       "      <td>0.010186</td>\n",
       "      <td>0.000000</td>\n",
       "      <td>0.375070</td>\n",
       "      <td>0.0</td>\n",
       "      <td>0.0</td>\n",
       "      <td>0.0</td>\n",
       "      <td>0.0</td>\n",
       "    </tr>\n",
       "    <tr>\n",
       "      <th>4</th>\n",
       "      <td>3 Députés demandent au gouvernement d'intégrer...</td>\n",
       "      <td>Question écrite de M. Dimitri Houbron député ...</td>\n",
       "      <td>Agit pour les animaux</td>\n",
       "      <td>mer-pisciculture</td>\n",
       "      <td>0.0</td>\n",
       "      <td>0.000000</td>\n",
       "      <td>0.000000</td>\n",
       "      <td>0.0</td>\n",
       "      <td>0.029153</td>\n",
       "      <td>0.0</td>\n",
       "      <td>...</td>\n",
       "      <td>0.0</td>\n",
       "      <td>0.019965</td>\n",
       "      <td>0.041323</td>\n",
       "      <td>0.000000</td>\n",
       "      <td>0.000000</td>\n",
       "      <td>0.000000</td>\n",
       "      <td>0.0</td>\n",
       "      <td>0.0</td>\n",
       "      <td>0.0</td>\n",
       "      <td>0.0</td>\n",
       "    </tr>\n",
       "  </tbody>\n",
       "</table>\n",
       "<p>5 rows × 2268 columns</p>\n",
       "</div>"
      ],
      "text/plain": [
       "                                               titre  \\\n",
       "0  Le député Loïc Dombreval demande au gouverneme...   \n",
       "1  Ces maires ont attribué une délégation conditi...   \n",
       "2  Tribune en faveur de la censure du débat publi...   \n",
       "3  Proposition de loi n°1896 visant à abolir l’él...   \n",
       "4  3 Députés demandent au gouvernement d'intégrer...   \n",
       "\n",
       "                                         description                 position  \\\n",
       "0   .@LoicDombreval se prononce pour une anticipa...    Agit pour les animaux   \n",
       "1   Ces maires ont attribué à un conseiller ou un...    Agit pour les animaux   \n",
       "2   Soutien assumé à la convention « Déméter », d...  Agit contre les animaux   \n",
       "3   En France, il est interdit de fabriquer et ve...    Agit pour les animaux   \n",
       "4   Question écrite de M. Dimitri Houbron député ...    Agit pour les animaux   \n",
       "\n",
       "              theme  l_!       l_#       l_%  l_&       l_'  l_''  ...  \\\n",
       "0           elevage  0.0  0.743203  0.000000  0.0  0.000000   0.0  ...   \n",
       "1      droit-animal  0.0  0.000000  0.000000  0.0  0.000000   0.0  ...   \n",
       "2           elevage  0.0  0.000000  0.073551  0.0  0.000000   0.0  ...   \n",
       "3           elevage  0.0  0.000000  0.032968  0.0  0.000000   0.0  ...   \n",
       "4  mer-pisciculture  0.0  0.000000  0.000000  0.0  0.029153   0.0  ...   \n",
       "\n",
       "   l_évoqu    l_être     l_œuf    l_œuvr       l_–       l_’  l_“  l_”  l_…  \\\n",
       "0      0.0  0.000000  0.000000  0.000000  0.000000  0.000000  0.0  0.0  0.0   \n",
       "1      0.0  0.000000  0.000000  0.000000  0.000000  0.000000  0.0  0.0  0.0   \n",
       "2      0.0  0.000000  0.000000  0.000000  0.041923  0.230113  0.0  0.0  0.0   \n",
       "3      0.0  0.025039  0.000000  0.010186  0.000000  0.375070  0.0  0.0  0.0   \n",
       "4      0.0  0.019965  0.041323  0.000000  0.000000  0.000000  0.0  0.0  0.0   \n",
       "\n",
       "   l_€  \n",
       "0  0.0  \n",
       "1  0.0  \n",
       "2  0.0  \n",
       "3  0.0  \n",
       "4  0.0  \n",
       "\n",
       "[5 rows x 2268 columns]"
      ]
     },
     "execution_count": 20,
     "metadata": {},
     "output_type": "execute_result"
    }
   ],
   "source": [
    "opinion_descri_df.head()"
   ]
  }
 ],
 "metadata": {
  "kernelspec": {
   "display_name": "Python 3",
   "language": "python",
   "name": "python3"
  },
  "language_info": {
   "codemirror_mode": {
    "name": "ipython",
    "version": 3
   },
   "file_extension": ".py",
   "mimetype": "text/x-python",
   "name": "python",
   "nbconvert_exporter": "python",
   "pygments_lexer": "ipython3",
   "version": "3.8.5"
  }
 },
 "nbformat": 4,
 "nbformat_minor": 2
}
