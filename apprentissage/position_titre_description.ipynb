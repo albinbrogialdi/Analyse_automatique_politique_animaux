{
 "cells": [
  {
   "cell_type": "markdown",
   "metadata": {},
   "source": [
    "# Pré-traitement des données et apprentissage de la position sur les colonnes titre et description (sans doublons)"
   ]
  },
  {
   "cell_type": "markdown",
   "metadata": {},
   "source": [
    "## Modules à importer"
   ]
  },
  {
   "cell_type": "code",
   "execution_count": 1,
   "metadata": {},
   "outputs": [],
   "source": [
    "import pandas as pd\n",
    "import nltk\n",
    "import string\n",
    "from sklearn.model_selection import train_test_split\n",
    "from sklearn.base import BaseEstimator, TransformerMixin\n",
    "from nltk.tokenize import word_tokenize\n",
    "from nltk.stem.snowball import FrenchStemmer\n",
    "from sklearn.feature_extraction.text import CountVectorizer\n",
    "from sklearn.pipeline import Pipeline, FeatureUnion, make_pipeline\n",
    "from sklearn.feature_extraction.text import TfidfVectorizer\n",
    "from sklearn.linear_model import LogisticRegression"
   ]
  },
  {
   "cell_type": "markdown",
   "metadata": {},
   "source": [
    "## Lecture du fichier CSV et création de la dataframe"
   ]
  },
  {
   "cell_type": "code",
   "execution_count": 2,
   "metadata": {},
   "outputs": [],
   "source": [
    "opinion_df = pd.read_csv (\"./data_website_tab.csv\", sep=\"\\t\", names=[\"titre\", \"description\",\"position\",\"theme\"],dtype={\"titre\":\"object\",\"description\":\"object\",\"position\":\"category\",\"theme\":\"category\"},header=None)"
   ]
  },
  {
   "cell_type": "markdown",
   "metadata": {},
   "source": [
    "## Suppression des lignes vides"
   ]
  },
  {
   "cell_type": "code",
   "execution_count": 3,
   "metadata": {},
   "outputs": [],
   "source": [
    "opinion_df_clean = opinion_df.dropna(how='any')"
   ]
  },
  {
   "cell_type": "markdown",
   "metadata": {},
   "source": [
    "## Récupération des index des lignes sans texte ne contenant que des espaces "
   ]
  },
  {
   "cell_type": "code",
   "execution_count": 4,
   "metadata": {},
   "outputs": [],
   "source": [
    "opinion_df_spaces = opinion_df_clean[(opinion_df_clean.description == \" \") |(opinion_df_clean.description == \"  \")]"
   ]
  },
  {
   "cell_type": "markdown",
   "metadata": {},
   "source": [
    "## Suppression des lignes ayant uniquement des espaces"
   ]
  },
  {
   "cell_type": "code",
   "execution_count": 5,
   "metadata": {},
   "outputs": [],
   "source": [
    "opinion_df_clean2 = opinion_df_clean.drop(index=opinion_df_spaces.index)"
   ]
  },
  {
   "cell_type": "markdown",
   "metadata": {},
   "source": [
    "## Remplacement du jeu de données initial par le jeu de données nettoyé"
   ]
  },
  {
   "cell_type": "code",
   "execution_count": 6,
   "metadata": {},
   "outputs": [],
   "source": [
    "opinion_df= opinion_df_clean2"
   ]
  },
  {
   "cell_type": "markdown",
   "metadata": {},
   "source": [
    "\n",
    "# Suppression des doublons\n"
   ]
  },
  {
   "cell_type": "markdown",
   "metadata": {},
   "source": [
    "## Nombre de lignes pour chaque position avant suppression des doublons "
   ]
  },
  {
   "cell_type": "code",
   "execution_count": 7,
   "metadata": {
    "scrolled": true
   },
   "outputs": [
    {
     "data": {
      "text/plain": [
       "Agit pour les animaux        3899\n",
       "Agit contre les animaux      2768\n",
       "Penche pour les animaux       565\n",
       "Penche contre les animaux     326\n",
       "Name: position, dtype: int64"
      ]
     },
     "execution_count": 7,
     "metadata": {},
     "output_type": "execute_result"
    }
   ],
   "source": [
    "opinion_df.position.value_counts()"
   ]
  },
  {
   "cell_type": "markdown",
   "metadata": {},
   "source": [
    "# Observations\n",
    "_doublons lignes d'index 4 et 5 ; 20, 21, 22, et 23 ; 24, 25, 26 et 27_"
   ]
  },
  {
   "cell_type": "code",
   "execution_count": 8,
   "metadata": {
    "scrolled": true
   },
   "outputs": [
    {
     "data": {
      "text/html": [
       "<div>\n",
       "<style scoped>\n",
       "    .dataframe tbody tr th:only-of-type {\n",
       "        vertical-align: middle;\n",
       "    }\n",
       "\n",
       "    .dataframe tbody tr th {\n",
       "        vertical-align: top;\n",
       "    }\n",
       "\n",
       "    .dataframe thead th {\n",
       "        text-align: right;\n",
       "    }\n",
       "</style>\n",
       "<table border=\"1\" class=\"dataframe\">\n",
       "  <thead>\n",
       "    <tr style=\"text-align: right;\">\n",
       "      <th></th>\n",
       "      <th>titre</th>\n",
       "      <th>description</th>\n",
       "      <th>position</th>\n",
       "      <th>theme</th>\n",
       "    </tr>\n",
       "  </thead>\n",
       "  <tbody>\n",
       "    <tr>\n",
       "      <th>0</th>\n",
       "      <td>Le député Loïc Dombreval demande au gouverneme...</td>\n",
       "      <td>.@LoicDombreval se prononce pour une anticipa...</td>\n",
       "      <td>Agit pour les animaux</td>\n",
       "      <td>elevage</td>\n",
       "    </tr>\n",
       "    <tr>\n",
       "      <th>1</th>\n",
       "      <td>Ces maires ont attribué une délégation conditi...</td>\n",
       "      <td>Ces maires ont attribué à un conseiller ou un...</td>\n",
       "      <td>Agit pour les animaux</td>\n",
       "      <td>droit-animal</td>\n",
       "    </tr>\n",
       "    <tr>\n",
       "      <th>2</th>\n",
       "      <td>Tribune en faveur de la censure du débat publi...</td>\n",
       "      <td>Soutien assumé à la convention « Déméter », d...</td>\n",
       "      <td>Agit contre les animaux</td>\n",
       "      <td>elevage</td>\n",
       "    </tr>\n",
       "    <tr>\n",
       "      <th>3</th>\n",
       "      <td>Proposition de loi n°1896 visant à abolir l’él...</td>\n",
       "      <td>En France, il est interdit de fabriquer et ve...</td>\n",
       "      <td>Agit pour les animaux</td>\n",
       "      <td>elevage</td>\n",
       "    </tr>\n",
       "    <tr>\n",
       "      <th>4</th>\n",
       "      <td>3 Députés demandent au gouvernement d'intégrer...</td>\n",
       "      <td>Question écrite de M. Dimitri Houbron député ...</td>\n",
       "      <td>Agit pour les animaux</td>\n",
       "      <td>mer-pisciculture</td>\n",
       "    </tr>\n",
       "    <tr>\n",
       "      <th>5</th>\n",
       "      <td>3 Députés demandent au gouvernement d'intégrer...</td>\n",
       "      <td>Question écrite de M. Dimitri Houbron député ...</td>\n",
       "      <td>Agit pour les animaux</td>\n",
       "      <td>elevage</td>\n",
       "    </tr>\n",
       "    <tr>\n",
       "      <th>6</th>\n",
       "      <td>Le sénateur Arnaud Bazin demande des explicati...</td>\n",
       "      <td>Question écrite n° 18999 de M. Arnaud Bazin  ...</td>\n",
       "      <td>Agit pour les animaux</td>\n",
       "      <td>experimentation-animale</td>\n",
       "    </tr>\n",
       "    <tr>\n",
       "      <th>7</th>\n",
       "      <td>La ville de Montpellier vote un vœu visant à i...</td>\n",
       "      <td>Le Conseil municipal de la ville de Montpelli...</td>\n",
       "      <td>Agit pour les animaux</td>\n",
       "      <td>zoo-cirque</td>\n",
       "    </tr>\n",
       "    <tr>\n",
       "      <th>8</th>\n",
       "      <td>Éric Piolle, maire de Grenoble, soutient le Ré...</td>\n",
       "      <td>Dans une vidéo publiée sur le compte Twitter ...</td>\n",
       "      <td>Agit pour les animaux</td>\n",
       "      <td>droit-animal</td>\n",
       "    </tr>\n",
       "    <tr>\n",
       "      <th>9</th>\n",
       "      <td>Anne Hidalgo, maire de Paris, et Christophe Na...</td>\n",
       "      <td>À l'occasion de la journée mondiale des anima...</td>\n",
       "      <td>Agit pour les animaux</td>\n",
       "      <td>droit-animal</td>\n",
       "    </tr>\n",
       "    <tr>\n",
       "      <th>10</th>\n",
       "      <td>Tours baptise un jardin du nom de l'éléphant F...</td>\n",
       "      <td>Extrait du site de la ville de Tours :  Homma...</td>\n",
       "      <td>Agit pour les animaux</td>\n",
       "      <td>droit-animal</td>\n",
       "    </tr>\n",
       "    <tr>\n",
       "      <th>11</th>\n",
       "      <td>La ville de Pessac adopte une motion «en faveu...</td>\n",
       "      <td>CONSEIL MUNICIPAL DU MARDI 29 SEPTEMBRE 2020 ...</td>\n",
       "      <td>Agit pour les animaux</td>\n",
       "      <td>droit-animal</td>\n",
       "    </tr>\n",
       "    <tr>\n",
       "      <th>12</th>\n",
       "      <td>Amendements CE17 et CE29 contre la fin progres...</td>\n",
       "      <td>Ces amendements visent à supprimer l'article ...</td>\n",
       "      <td>Agit contre les animaux</td>\n",
       "      <td>elevage</td>\n",
       "    </tr>\n",
       "    <tr>\n",
       "      <th>13</th>\n",
       "      <td>Amendement CE5 visant à interdire les «fermes-...</td>\n",
       "      <td>Éradiquer la souffrance animale passe par un...</td>\n",
       "      <td>Agit pour les animaux</td>\n",
       "      <td>elevage</td>\n",
       "    </tr>\n",
       "    <tr>\n",
       "      <th>14</th>\n",
       "      <td>Amendements CE18, CE20, CE21 et CE30 contre l'...</td>\n",
       "      <td>Ces amendements visent à supprimer ou vider d...</td>\n",
       "      <td>Agit contre les animaux</td>\n",
       "      <td>chasse</td>\n",
       "    </tr>\n",
       "    <tr>\n",
       "      <th>15</th>\n",
       "      <td>Amendement CE33 visant à introduire l'éthique ...</td>\n",
       "      <td>AMENDEMENT N°CE33 présenté par Mme Cazebonne,...</td>\n",
       "      <td>Agit pour les animaux</td>\n",
       "      <td>droit-animal</td>\n",
       "    </tr>\n",
       "    <tr>\n",
       "      <th>16</th>\n",
       "      <td>Amendements CE9, CE11 et CE16 contre l'inscrip...</td>\n",
       "      <td>Ces amendements visent à vider de sa portée l...</td>\n",
       "      <td>Agit contre les animaux</td>\n",
       "      <td>zoo-cirque</td>\n",
       "    </tr>\n",
       "    <tr>\n",
       "      <th>17</th>\n",
       "      <td>Proposition de loi n°3338 visant aggraver les ...</td>\n",
       "      <td>PROPOSITION DE LOI visant à aggraver les sanc...</td>\n",
       "      <td>Agit pour les animaux</td>\n",
       "      <td>animaux-de-compagnie</td>\n",
       "    </tr>\n",
       "    <tr>\n",
       "      <th>18</th>\n",
       "      <td>Proposition de loi N°3308 visant à interdire l...</td>\n",
       "      <td>N° 3308 _____ ASSEMBLÉE  NATIONALE CONSTITUTI...</td>\n",
       "      <td>Agit pour les animaux</td>\n",
       "      <td>elevage</td>\n",
       "    </tr>\n",
       "    <tr>\n",
       "      <th>19</th>\n",
       "      <td>La Région Ile-de-France crée un label régional...</td>\n",
       "      <td>Les critères du label « Ville amie des anima...</td>\n",
       "      <td>Agit pour les animaux</td>\n",
       "      <td>animaux-de-compagnie</td>\n",
       "    </tr>\n",
       "    <tr>\n",
       "      <th>20</th>\n",
       "      <td>Ces parlementaires soutiennent le «Référendum ...</td>\n",
       "      <td>Avec cette initiative, nous demandons à ce q...</td>\n",
       "      <td>Agit pour les animaux</td>\n",
       "      <td>zoo-cirque</td>\n",
       "    </tr>\n",
       "    <tr>\n",
       "      <th>21</th>\n",
       "      <td>Ces parlementaires soutiennent le «Référendum ...</td>\n",
       "      <td>Avec cette initiative, nous demandons à ce q...</td>\n",
       "      <td>Agit pour les animaux</td>\n",
       "      <td>chasse</td>\n",
       "    </tr>\n",
       "    <tr>\n",
       "      <th>22</th>\n",
       "      <td>Ces parlementaires soutiennent le «Référendum ...</td>\n",
       "      <td>Avec cette initiative, nous demandons à ce q...</td>\n",
       "      <td>Agit pour les animaux</td>\n",
       "      <td>elevage</td>\n",
       "    </tr>\n",
       "    <tr>\n",
       "      <th>23</th>\n",
       "      <td>Ces parlementaires soutiennent le «Référendum ...</td>\n",
       "      <td>Avec cette initiative, nous demandons à ce q...</td>\n",
       "      <td>Agit pour les animaux</td>\n",
       "      <td>experimentation-animale</td>\n",
       "    </tr>\n",
       "    <tr>\n",
       "      <th>24</th>\n",
       "      <td>Ces parlementaires ne soutiennent pas encore l...</td>\n",
       "      <td>Avec cette initiative, nous demandons à ce q...</td>\n",
       "      <td>Penche contre les animaux</td>\n",
       "      <td>zoo-cirque</td>\n",
       "    </tr>\n",
       "    <tr>\n",
       "      <th>25</th>\n",
       "      <td>Ces parlementaires ne soutiennent pas encore l...</td>\n",
       "      <td>Avec cette initiative, nous demandons à ce q...</td>\n",
       "      <td>Penche contre les animaux</td>\n",
       "      <td>chasse</td>\n",
       "    </tr>\n",
       "    <tr>\n",
       "      <th>26</th>\n",
       "      <td>Ces parlementaires ne soutiennent pas encore l...</td>\n",
       "      <td>Avec cette initiative, nous demandons à ce q...</td>\n",
       "      <td>Penche contre les animaux</td>\n",
       "      <td>elevage</td>\n",
       "    </tr>\n",
       "    <tr>\n",
       "      <th>27</th>\n",
       "      <td>Ces parlementaires ne soutiennent pas encore l...</td>\n",
       "      <td>Avec cette initiative, nous demandons à ce q...</td>\n",
       "      <td>Penche contre les animaux</td>\n",
       "      <td>experimentation-animale</td>\n",
       "    </tr>\n",
       "    <tr>\n",
       "      <th>28</th>\n",
       "      <td>Référendum pour les animaux : le président du ...</td>\n",
       "      <td>Sur le fond vous connaissez mon attachement à...</td>\n",
       "      <td>Agit contre les animaux</td>\n",
       "      <td>chasse</td>\n",
       "    </tr>\n",
       "    <tr>\n",
       "      <th>29</th>\n",
       "      <td>Suspension de la chasse à la glu pour un an</td>\n",
       "      <td>Depuis des années la LPO se bat pour obtenir ...</td>\n",
       "      <td>Penche pour les animaux</td>\n",
       "      <td>chasse</td>\n",
       "    </tr>\n",
       "  </tbody>\n",
       "</table>\n",
       "</div>"
      ],
      "text/plain": [
       "                                                titre  \\\n",
       "0   Le député Loïc Dombreval demande au gouverneme...   \n",
       "1   Ces maires ont attribué une délégation conditi...   \n",
       "2   Tribune en faveur de la censure du débat publi...   \n",
       "3   Proposition de loi n°1896 visant à abolir l’él...   \n",
       "4   3 Députés demandent au gouvernement d'intégrer...   \n",
       "5   3 Députés demandent au gouvernement d'intégrer...   \n",
       "6   Le sénateur Arnaud Bazin demande des explicati...   \n",
       "7   La ville de Montpellier vote un vœu visant à i...   \n",
       "8   Éric Piolle, maire de Grenoble, soutient le Ré...   \n",
       "9   Anne Hidalgo, maire de Paris, et Christophe Na...   \n",
       "10  Tours baptise un jardin du nom de l'éléphant F...   \n",
       "11  La ville de Pessac adopte une motion «en faveu...   \n",
       "12  Amendements CE17 et CE29 contre la fin progres...   \n",
       "13  Amendement CE5 visant à interdire les «fermes-...   \n",
       "14  Amendements CE18, CE20, CE21 et CE30 contre l'...   \n",
       "15  Amendement CE33 visant à introduire l'éthique ...   \n",
       "16  Amendements CE9, CE11 et CE16 contre l'inscrip...   \n",
       "17  Proposition de loi n°3338 visant aggraver les ...   \n",
       "18  Proposition de loi N°3308 visant à interdire l...   \n",
       "19  La Région Ile-de-France crée un label régional...   \n",
       "20  Ces parlementaires soutiennent le «Référendum ...   \n",
       "21  Ces parlementaires soutiennent le «Référendum ...   \n",
       "22  Ces parlementaires soutiennent le «Référendum ...   \n",
       "23  Ces parlementaires soutiennent le «Référendum ...   \n",
       "24  Ces parlementaires ne soutiennent pas encore l...   \n",
       "25  Ces parlementaires ne soutiennent pas encore l...   \n",
       "26  Ces parlementaires ne soutiennent pas encore l...   \n",
       "27  Ces parlementaires ne soutiennent pas encore l...   \n",
       "28  Référendum pour les animaux : le président du ...   \n",
       "29        Suspension de la chasse à la glu pour un an   \n",
       "\n",
       "                                          description  \\\n",
       "0    .@LoicDombreval se prononce pour une anticipa...   \n",
       "1    Ces maires ont attribué à un conseiller ou un...   \n",
       "2    Soutien assumé à la convention « Déméter », d...   \n",
       "3    En France, il est interdit de fabriquer et ve...   \n",
       "4    Question écrite de M. Dimitri Houbron député ...   \n",
       "5    Question écrite de M. Dimitri Houbron député ...   \n",
       "6    Question écrite n° 18999 de M. Arnaud Bazin  ...   \n",
       "7    Le Conseil municipal de la ville de Montpelli...   \n",
       "8    Dans une vidéo publiée sur le compte Twitter ...   \n",
       "9    À l'occasion de la journée mondiale des anima...   \n",
       "10   Extrait du site de la ville de Tours :  Homma...   \n",
       "11   CONSEIL MUNICIPAL DU MARDI 29 SEPTEMBRE 2020 ...   \n",
       "12   Ces amendements visent à supprimer l'article ...   \n",
       "13    Éradiquer la souffrance animale passe par un...   \n",
       "14   Ces amendements visent à supprimer ou vider d...   \n",
       "15   AMENDEMENT N°CE33 présenté par Mme Cazebonne,...   \n",
       "16   Ces amendements visent à vider de sa portée l...   \n",
       "17   PROPOSITION DE LOI visant à aggraver les sanc...   \n",
       "18   N° 3308 _____ ASSEMBLÉE  NATIONALE CONSTITUTI...   \n",
       "19    Les critères du label « Ville amie des anima...   \n",
       "20    Avec cette initiative, nous demandons à ce q...   \n",
       "21    Avec cette initiative, nous demandons à ce q...   \n",
       "22    Avec cette initiative, nous demandons à ce q...   \n",
       "23    Avec cette initiative, nous demandons à ce q...   \n",
       "24    Avec cette initiative, nous demandons à ce q...   \n",
       "25    Avec cette initiative, nous demandons à ce q...   \n",
       "26    Avec cette initiative, nous demandons à ce q...   \n",
       "27    Avec cette initiative, nous demandons à ce q...   \n",
       "28   Sur le fond vous connaissez mon attachement à...   \n",
       "29   Depuis des années la LPO se bat pour obtenir ...   \n",
       "\n",
       "                     position                    theme  \n",
       "0       Agit pour les animaux                  elevage  \n",
       "1       Agit pour les animaux             droit-animal  \n",
       "2     Agit contre les animaux                  elevage  \n",
       "3       Agit pour les animaux                  elevage  \n",
       "4       Agit pour les animaux         mer-pisciculture  \n",
       "5       Agit pour les animaux                  elevage  \n",
       "6       Agit pour les animaux  experimentation-animale  \n",
       "7       Agit pour les animaux               zoo-cirque  \n",
       "8       Agit pour les animaux             droit-animal  \n",
       "9       Agit pour les animaux             droit-animal  \n",
       "10      Agit pour les animaux             droit-animal  \n",
       "11      Agit pour les animaux             droit-animal  \n",
       "12    Agit contre les animaux                  elevage  \n",
       "13      Agit pour les animaux                  elevage  \n",
       "14    Agit contre les animaux                   chasse  \n",
       "15      Agit pour les animaux             droit-animal  \n",
       "16    Agit contre les animaux               zoo-cirque  \n",
       "17      Agit pour les animaux     animaux-de-compagnie  \n",
       "18      Agit pour les animaux                  elevage  \n",
       "19      Agit pour les animaux     animaux-de-compagnie  \n",
       "20      Agit pour les animaux               zoo-cirque  \n",
       "21      Agit pour les animaux                   chasse  \n",
       "22      Agit pour les animaux                  elevage  \n",
       "23      Agit pour les animaux  experimentation-animale  \n",
       "24  Penche contre les animaux               zoo-cirque  \n",
       "25  Penche contre les animaux                   chasse  \n",
       "26  Penche contre les animaux                  elevage  \n",
       "27  Penche contre les animaux  experimentation-animale  \n",
       "28    Agit contre les animaux                   chasse  \n",
       "29    Penche pour les animaux                   chasse  "
      ]
     },
     "execution_count": 8,
     "metadata": {},
     "output_type": "execute_result"
    }
   ],
   "source": [
    " opinion_df.head(30)"
   ]
  },
  {
   "cell_type": "markdown",
   "metadata": {},
   "source": [
    "## Suppression des doublons de colonnes titre et description "
   ]
  },
  {
   "cell_type": "code",
   "execution_count": 9,
   "metadata": {},
   "outputs": [],
   "source": [
    "opinion_df_clean3 = opinion_df.drop_duplicates(subset=['titre', 'description'])"
   ]
  },
  {
   "cell_type": "code",
   "execution_count": 10,
   "metadata": {
    "scrolled": true
   },
   "outputs": [
    {
     "data": {
      "text/plain": [
       "Agit pour les animaux        3399\n",
       "Agit contre les animaux      2511\n",
       "Penche pour les animaux       523\n",
       "Penche contre les animaux     290\n",
       "Name: position, dtype: int64"
      ]
     },
     "execution_count": 10,
     "metadata": {},
     "output_type": "execute_result"
    }
   ],
   "source": [
    " opinion_df_clean3.position.value_counts()"
   ]
  },
  {
   "cell_type": "markdown",
   "metadata": {},
   "source": [
    "## Remplacement des index manquants (supprimés avec drop_duplicates) par de nouveaux index réordonnés"
   ]
  },
  {
   "cell_type": "code",
   "execution_count": 11,
   "metadata": {},
   "outputs": [],
   "source": [
    " opinion_df_clean3 = opinion_df_clean3.reset_index(drop=True)"
   ]
  },
  {
   "cell_type": "markdown",
   "metadata": {},
   "source": [
    "## Remplacement le jeu de données initial par le jeu de données nettoyé"
   ]
  },
  {
   "cell_type": "code",
   "execution_count": 12,
   "metadata": {},
   "outputs": [],
   "source": [
    "opinion_df = opinion_df_clean3"
   ]
  },
  {
   "cell_type": "markdown",
   "metadata": {},
   "source": [
    "## Extraction pour position"
   ]
  },
  {
   "cell_type": "code",
   "execution_count": null,
   "metadata": {},
   "outputs": [],
   "source": [
    "X = opinion_df[[\"titre\", \"description\"]]\n",
    "y = opinion_df.position"
   ]
  },
  {
   "cell_type": "code",
   "execution_count": null,
   "metadata": {},
   "outputs": [],
   "source": [
    "X_train, X_test, y_train, y_test = train_test_split(X, y, test_size=0.2)"
   ]
  },
  {
   "cell_type": "markdown",
   "metadata": {},
   "source": [
    "## Créations des différentes fonctions utilisées"
   ]
  },
  {
   "cell_type": "code",
   "execution_count": null,
   "metadata": {},
   "outputs": [],
   "source": [
    "class SingleColumnSelector(BaseEstimator, TransformerMixin):\n",
    "    def __init__(self, key):\n",
    "        self.key = key\n",
    "    \n",
    "    def fit(self, X, y=None):\n",
    "        return self\n",
    "    \n",
    "    def transform(self, data_dict):\n",
    "        return data_dict[self.key]\n",
    "    \n",
    "class MultiColumnSelector(BaseEstimator, TransformerMixin):\n",
    "    def __init__(self, columns):\n",
    "        self.columns = columns\n",
    "\n",
    "    def fit(self, X, y=None):\n",
    "        return self\n",
    "\n",
    "    def transform(self, X):\n",
    "        assert isinstance(X, pd.DataFrame)\n",
    "\n",
    "        try:\n",
    "            return X[self.columns].to_dict('records')\n",
    "        except KeyError:\n",
    "            cols_error = list(set(self.columns) - set(X.columns))\n",
    "            raise KeyError(\"The DataFrame does not include the columns: %s\" % cols_error)"
   ]
  },
  {
   "cell_type": "code",
   "execution_count": null,
   "metadata": {},
   "outputs": [],
   "source": [
    "def split_into_tokens_nltk(desc) :\n",
    "    return word_tokenize(desc)"
   ]
  },
  {
   "cell_type": "code",
   "execution_count": null,
   "metadata": {},
   "outputs": [],
   "source": [
    "fs = FrenchStemmer()\n",
    "def split_into_stems(desc):\n",
    "    words = word_tokenize(desc)\n",
    "    return [fs.stem(w) for w in words]"
   ]
  },
  {
   "cell_type": "markdown",
   "metadata": {},
   "source": [
    "## Liste des nombres et lois + signes de ponctuation"
   ]
  },
  {
   "cell_type": "code",
   "execution_count": null,
   "metadata": {},
   "outputs": [],
   "source": [
    "stopwords = open('stopwords_list.txt','r').read().split()\n",
    "nblaw_stopwords = stopwords+list(string.punctuation)"
   ]
  },
  {
   "cell_type": "markdown",
   "metadata": {},
   "source": [
    "## Pipeline pour la colonne titre et transformation du texte en sac de mots avec CountVectorizer + application du pipeline sur X_train"
   ]
  },
  {
   "cell_type": "code",
   "execution_count": 22,
   "metadata": {
    "scrolled": true
   },
   "outputs": [
    {
     "data": {
      "text/plain": [
       "Pipeline(memory=None,\n",
       "         steps=[('singlecolumnselector', SingleColumnSelector(key='titre')),\n",
       "                ('countvectorizer',\n",
       "                 CountVectorizer(analyzer='word', binary=False,\n",
       "                                 decode_error='strict',\n",
       "                                 dtype=<class 'numpy.int64'>, encoding='utf-8',\n",
       "                                 input='content', lowercase=True, max_df=1.0,\n",
       "                                 max_features=None, min_df=0.01,\n",
       "                                 ngram_range=(1, 1), preprocessor=None,\n",
       "                                 stop_words=['00001002', '0...\n",
       "                                             '02070', '02302', '03041', '03242',\n",
       "                                             '03633', '04654', '0507S', '0529G',\n",
       "                                             '05860', '06227', '0635S', '06657',\n",
       "                                             '06942', '0714G', '07714', '07795',\n",
       "                                             '08060', '08152', '08361', '09384',\n",
       "                                             '09386', '09516', '1', '1-2005',\n",
       "                                             '1-2007', '10', '10027', ...],\n",
       "                                 strip_accents=None,\n",
       "                                 token_pattern='(?u)\\\\b\\\\w\\\\w+\\\\b',\n",
       "                                 tokenizer=<function split_into_stems at 0x0000018A8279BC18>,\n",
       "                                 vocabulary=None))],\n",
       "         verbose=False)"
      ]
     },
     "execution_count": 22,
     "metadata": {},
     "output_type": "execute_result"
    }
   ],
   "source": [
    "titre_vectorizer = CountVectorizer(tokenizer=split_into_stems, lowercase=True, stop_words=nblaw_stopwords, min_df=0.01)\n",
    "    \n",
    "titre_pipeline = make_pipeline(\n",
    "    SingleColumnSelector(key=\"titre\"),\n",
    "    titre_vectorizer\n",
    ")\n",
    "\n",
    "titre_pipeline.fit(X_train)"
   ]
  },
  {
   "cell_type": "markdown",
   "metadata": {},
   "source": [
    "## Affichage des traits"
   ]
  },
  {
   "cell_type": "code",
   "execution_count": 26,
   "metadata": {
    "scrolled": true
   },
   "outputs": [
    {
     "name": "stdout",
     "output_type": "stream",
     "text": [
      "Input titre\n",
      "3366    Francis Hillmeyer propose de désigner au sein ...\n",
      "5516    Les élus EELV du Conseil Régional Midi-Pyrénée...\n",
      "5004    Geneviève Gaillard demande le renforcement des...\n",
      "2630    Arnaud Viala demande de classer les cormorans ...\n",
      "2258    Jean-Luc Mélenchon veut fortement encourager l...\n",
      "Name: titre, dtype: object\n",
      "\n",
      "Output bags of words\n"
     ]
    },
    {
     "data": {
      "text/html": [
       "<div>\n",
       "<style scoped>\n",
       "    .dataframe tbody tr th:only-of-type {\n",
       "        vertical-align: middle;\n",
       "    }\n",
       "\n",
       "    .dataframe tbody tr th {\n",
       "        vertical-align: top;\n",
       "    }\n",
       "\n",
       "    .dataframe thead th {\n",
       "        text-align: right;\n",
       "    }\n",
       "</style>\n",
       "<table border=\"1\" class=\"dataframe\">\n",
       "  <thead>\n",
       "    <tr style=\"text-align: right;\">\n",
       "      <th></th>\n",
       "      <th>...</th>\n",
       "      <th>animal</th>\n",
       "      <th>au</th>\n",
       "      <th>aux</th>\n",
       "      <th>comm</th>\n",
       "      <th>conseil</th>\n",
       "      <th>corrid</th>\n",
       "      <th>dan</th>\n",
       "      <th>de</th>\n",
       "      <th>demand</th>\n",
       "      <th>...</th>\n",
       "      <th>régional</th>\n",
       "      <th>subvent</th>\n",
       "      <th>sur</th>\n",
       "      <th>un</th>\n",
       "      <th>veut</th>\n",
       "      <th>vis</th>\n",
       "      <th>«</th>\n",
       "      <th>»</th>\n",
       "      <th>à</th>\n",
       "      <th>élus</th>\n",
       "    </tr>\n",
       "  </thead>\n",
       "  <tbody>\n",
       "    <tr>\n",
       "      <th>3366</th>\n",
       "      <td>0.0</td>\n",
       "      <td>1.0</td>\n",
       "      <td>1.0</td>\n",
       "      <td>1.0</td>\n",
       "      <td>0.0</td>\n",
       "      <td>0.0</td>\n",
       "      <td>0.0</td>\n",
       "      <td>0.0</td>\n",
       "      <td>2.0</td>\n",
       "      <td>0.0</td>\n",
       "      <td>...</td>\n",
       "      <td>0.0</td>\n",
       "      <td>0.0</td>\n",
       "      <td>1.0</td>\n",
       "      <td>1.0</td>\n",
       "      <td>0.0</td>\n",
       "      <td>0.0</td>\n",
       "      <td>1.0</td>\n",
       "      <td>1.0</td>\n",
       "      <td>0.0</td>\n",
       "      <td>0.0</td>\n",
       "    </tr>\n",
       "    <tr>\n",
       "      <th>5516</th>\n",
       "      <td>0.0</td>\n",
       "      <td>0.0</td>\n",
       "      <td>0.0</td>\n",
       "      <td>1.0</td>\n",
       "      <td>0.0</td>\n",
       "      <td>1.0</td>\n",
       "      <td>1.0</td>\n",
       "      <td>0.0</td>\n",
       "      <td>0.0</td>\n",
       "      <td>0.0</td>\n",
       "      <td>...</td>\n",
       "      <td>1.0</td>\n",
       "      <td>1.0</td>\n",
       "      <td>0.0</td>\n",
       "      <td>0.0</td>\n",
       "      <td>0.0</td>\n",
       "      <td>0.0</td>\n",
       "      <td>0.0</td>\n",
       "      <td>0.0</td>\n",
       "      <td>0.0</td>\n",
       "      <td>1.0</td>\n",
       "    </tr>\n",
       "    <tr>\n",
       "      <th>5004</th>\n",
       "      <td>0.0</td>\n",
       "      <td>0.0</td>\n",
       "      <td>0.0</td>\n",
       "      <td>0.0</td>\n",
       "      <td>0.0</td>\n",
       "      <td>0.0</td>\n",
       "      <td>0.0</td>\n",
       "      <td>0.0</td>\n",
       "      <td>3.0</td>\n",
       "      <td>1.0</td>\n",
       "      <td>...</td>\n",
       "      <td>0.0</td>\n",
       "      <td>0.0</td>\n",
       "      <td>0.0</td>\n",
       "      <td>0.0</td>\n",
       "      <td>0.0</td>\n",
       "      <td>0.0</td>\n",
       "      <td>0.0</td>\n",
       "      <td>0.0</td>\n",
       "      <td>0.0</td>\n",
       "      <td>0.0</td>\n",
       "    </tr>\n",
       "    <tr>\n",
       "      <th>2630</th>\n",
       "      <td>1.0</td>\n",
       "      <td>0.0</td>\n",
       "      <td>0.0</td>\n",
       "      <td>0.0</td>\n",
       "      <td>1.0</td>\n",
       "      <td>0.0</td>\n",
       "      <td>0.0</td>\n",
       "      <td>1.0</td>\n",
       "      <td>2.0</td>\n",
       "      <td>1.0</td>\n",
       "      <td>...</td>\n",
       "      <td>0.0</td>\n",
       "      <td>0.0</td>\n",
       "      <td>0.0</td>\n",
       "      <td>0.0</td>\n",
       "      <td>0.0</td>\n",
       "      <td>0.0</td>\n",
       "      <td>0.0</td>\n",
       "      <td>0.0</td>\n",
       "      <td>0.0</td>\n",
       "      <td>0.0</td>\n",
       "    </tr>\n",
       "    <tr>\n",
       "      <th>2258</th>\n",
       "      <td>0.0</td>\n",
       "      <td>1.0</td>\n",
       "      <td>0.0</td>\n",
       "      <td>0.0</td>\n",
       "      <td>0.0</td>\n",
       "      <td>0.0</td>\n",
       "      <td>0.0</td>\n",
       "      <td>0.0</td>\n",
       "      <td>2.0</td>\n",
       "      <td>0.0</td>\n",
       "      <td>...</td>\n",
       "      <td>0.0</td>\n",
       "      <td>0.0</td>\n",
       "      <td>0.0</td>\n",
       "      <td>0.0</td>\n",
       "      <td>1.0</td>\n",
       "      <td>1.0</td>\n",
       "      <td>1.0</td>\n",
       "      <td>1.0</td>\n",
       "      <td>1.0</td>\n",
       "      <td>0.0</td>\n",
       "    </tr>\n",
       "  </tbody>\n",
       "</table>\n",
       "<p>5 rows × 30 columns</p>\n",
       "</div>"
      ],
      "text/plain": [
       "      ...  animal   au  aux  comm  conseil  corrid  dan   de  demand  ...  \\\n",
       "3366  0.0     1.0  1.0  1.0   0.0      0.0     0.0  0.0  2.0     0.0  ...   \n",
       "5516  0.0     0.0  0.0  1.0   0.0      1.0     1.0  0.0  0.0     0.0  ...   \n",
       "5004  0.0     0.0  0.0  0.0   0.0      0.0     0.0  0.0  3.0     1.0  ...   \n",
       "2630  1.0     0.0  0.0  0.0   1.0      0.0     0.0  1.0  2.0     1.0  ...   \n",
       "2258  0.0     1.0  0.0  0.0   0.0      0.0     0.0  0.0  2.0     0.0  ...   \n",
       "\n",
       "      régional  subvent  sur   un  veut  vis    «    »    à  élus  \n",
       "3366       0.0      0.0  1.0  1.0   0.0  0.0  1.0  1.0  0.0   0.0  \n",
       "5516       1.0      1.0  0.0  0.0   0.0  0.0  0.0  0.0  0.0   1.0  \n",
       "5004       0.0      0.0  0.0  0.0   0.0  0.0  0.0  0.0  0.0   0.0  \n",
       "2630       0.0      0.0  0.0  0.0   0.0  0.0  0.0  0.0  0.0   0.0  \n",
       "2258       0.0      0.0  0.0  0.0   1.0  1.0  1.0  1.0  1.0   0.0  \n",
       "\n",
       "[5 rows x 30 columns]"
      ]
     },
     "execution_count": 26,
     "metadata": {},
     "output_type": "execute_result"
    }
   ],
   "source": [
    "res = titre_pipeline.transform(X_test.head())\n",
    "print(\"Input titre\")\n",
    "print(X_test.titre.head())\n",
    "print(\"Output bags of words\")\n",
    "\n",
    "bow = pd.DataFrame(res.toarray(), columns=titre_vectorizer.get_feature_names())\n",
    "bow.set_index(X_test.head().index, inplace=True)\n",
    "bow.replace(0, np.nan).dropna(axis=1, how='all').fillna(0)"
   ]
  },
  {
   "cell_type": "markdown",
   "metadata": {},
   "source": [
    "## Pipeline pour la colonne description et transformation du texte en vecteurs avec TfidfVectorizer + application du pipeline sur X_train"
   ]
  },
  {
   "cell_type": "code",
   "execution_count": 27,
   "metadata": {
    "scrolled": true
   },
   "outputs": [
    {
     "data": {
      "text/plain": [
       "Pipeline(memory=None,\n",
       "         steps=[('singlecolumnselector',\n",
       "                 SingleColumnSelector(key='description')),\n",
       "                ('tfidfvectorizer',\n",
       "                 TfidfVectorizer(analyzer='word', binary=False,\n",
       "                                 decode_error='strict',\n",
       "                                 dtype=<class 'numpy.float64'>,\n",
       "                                 encoding='utf-8', input='content',\n",
       "                                 lowercase=True, max_df=1.0, max_features=None,\n",
       "                                 min_df=0.01, ngram_range=(1, 1), norm='l2',\n",
       "                                 preprocessor=None, smooth_idf=True,\n",
       "                                 stop_words=None, strip_accents=None,\n",
       "                                 sublinear_tf=False,\n",
       "                                 token_pattern='(?u)\\\\b\\\\w\\\\w+\\\\b',\n",
       "                                 tokenizer=<function split_into_stems at 0x0000018A8279BC18>,\n",
       "                                 use_idf=True, vocabulary=None))],\n",
       "         verbose=False)"
      ]
     },
     "execution_count": 27,
     "metadata": {},
     "output_type": "execute_result"
    }
   ],
   "source": [
    "desc_vectorizer = TfidfVectorizer(tokenizer=split_into_stems,lowercase=True,min_df=0.01)\n",
    "\n",
    "description_pipeline = make_pipeline(\n",
    "    SingleColumnSelector(key=\"description\"),\n",
    "    desc_vectorizer\n",
    ")\n",
    "\n",
    "description_pipeline.fit(X_train)"
   ]
  },
  {
   "cell_type": "markdown",
   "metadata": {},
   "source": [
    "## Affichage des traits"
   ]
  },
  {
   "cell_type": "code",
   "execution_count": 28,
   "metadata": {
    "scrolled": false
   },
   "outputs": [
    {
     "name": "stdout",
     "output_type": "stream",
     "text": [
      "Input descriptions\n",
      "3366     De nombreuses études ayant mis en évidence le...\n",
      "5516     Les élu-es EELV au Conseil Régional dénoncent...\n",
      "5004     L'outarde canepetière est une espèce protégée...\n",
      "2630     Pour la pisciculture, ces attaques constituen...\n",
      "2258     Dans le cadre global de la planification écol...\n",
      "Name: description, dtype: object\n",
      "\n",
      "Output bags of words\n"
     ]
    },
    {
     "data": {
      "text/html": [
       "<div>\n",
       "<style scoped>\n",
       "    .dataframe tbody tr th:only-of-type {\n",
       "        vertical-align: middle;\n",
       "    }\n",
       "\n",
       "    .dataframe tbody tr th {\n",
       "        vertical-align: top;\n",
       "    }\n",
       "\n",
       "    .dataframe thead th {\n",
       "        text-align: right;\n",
       "    }\n",
       "</style>\n",
       "<table border=\"1\" class=\"dataframe\">\n",
       "  <thead>\n",
       "    <tr style=\"text-align: right;\">\n",
       "      <th></th>\n",
       "      <th>'</th>\n",
       "      <th>(</th>\n",
       "      <th>)</th>\n",
       "      <th>,</th>\n",
       "      <th>-</th>\n",
       "      <th>.</th>\n",
       "      <th>...</th>\n",
       "      <th>100</th>\n",
       "      <th>8</th>\n",
       "      <th>:</th>\n",
       "      <th>...</th>\n",
       "      <th>élevag</th>\n",
       "      <th>état</th>\n",
       "      <th>étud</th>\n",
       "      <th>été</th>\n",
       "      <th>évident</th>\n",
       "      <th>être</th>\n",
       "      <th>œuvr</th>\n",
       "      <th>–</th>\n",
       "      <th>’</th>\n",
       "      <th>€</th>\n",
       "    </tr>\n",
       "  </thead>\n",
       "  <tbody>\n",
       "    <tr>\n",
       "      <th>3366</th>\n",
       "      <td>0.000000</td>\n",
       "      <td>0.016577</td>\n",
       "      <td>0.016583</td>\n",
       "      <td>0.073182</td>\n",
       "      <td>0.084022</td>\n",
       "      <td>0.044221</td>\n",
       "      <td>0.000000</td>\n",
       "      <td>0.000000</td>\n",
       "      <td>0.000000</td>\n",
       "      <td>0.018711</td>\n",
       "      <td>...</td>\n",
       "      <td>0.000000</td>\n",
       "      <td>0.000000</td>\n",
       "      <td>0.106558</td>\n",
       "      <td>0.000000</td>\n",
       "      <td>0.122377</td>\n",
       "      <td>0.060359</td>\n",
       "      <td>0.000000</td>\n",
       "      <td>0.000000</td>\n",
       "      <td>0.000000</td>\n",
       "      <td>0.000000</td>\n",
       "    </tr>\n",
       "    <tr>\n",
       "      <th>5516</th>\n",
       "      <td>0.000000</td>\n",
       "      <td>0.000000</td>\n",
       "      <td>0.000000</td>\n",
       "      <td>0.099143</td>\n",
       "      <td>0.000000</td>\n",
       "      <td>0.112328</td>\n",
       "      <td>0.000000</td>\n",
       "      <td>0.000000</td>\n",
       "      <td>0.000000</td>\n",
       "      <td>0.015842</td>\n",
       "      <td>...</td>\n",
       "      <td>0.000000</td>\n",
       "      <td>0.000000</td>\n",
       "      <td>0.000000</td>\n",
       "      <td>0.000000</td>\n",
       "      <td>0.000000</td>\n",
       "      <td>0.000000</td>\n",
       "      <td>0.000000</td>\n",
       "      <td>0.385394</td>\n",
       "      <td>0.171143</td>\n",
       "      <td>0.000000</td>\n",
       "    </tr>\n",
       "    <tr>\n",
       "      <th>5004</th>\n",
       "      <td>0.000000</td>\n",
       "      <td>0.000000</td>\n",
       "      <td>0.000000</td>\n",
       "      <td>0.194007</td>\n",
       "      <td>0.000000</td>\n",
       "      <td>0.143968</td>\n",
       "      <td>0.021666</td>\n",
       "      <td>0.000000</td>\n",
       "      <td>0.000000</td>\n",
       "      <td>0.013053</td>\n",
       "      <td>...</td>\n",
       "      <td>0.025992</td>\n",
       "      <td>0.000000</td>\n",
       "      <td>0.000000</td>\n",
       "      <td>0.022821</td>\n",
       "      <td>0.085374</td>\n",
       "      <td>0.000000</td>\n",
       "      <td>0.103298</td>\n",
       "      <td>0.000000</td>\n",
       "      <td>0.000000</td>\n",
       "      <td>0.000000</td>\n",
       "    </tr>\n",
       "    <tr>\n",
       "      <th>2630</th>\n",
       "      <td>0.027615</td>\n",
       "      <td>0.042203</td>\n",
       "      <td>0.042219</td>\n",
       "      <td>0.372632</td>\n",
       "      <td>0.000000</td>\n",
       "      <td>0.178258</td>\n",
       "      <td>0.039534</td>\n",
       "      <td>0.000000</td>\n",
       "      <td>0.000000</td>\n",
       "      <td>0.011909</td>\n",
       "      <td>...</td>\n",
       "      <td>0.047428</td>\n",
       "      <td>0.026478</td>\n",
       "      <td>0.000000</td>\n",
       "      <td>0.000000</td>\n",
       "      <td>0.000000</td>\n",
       "      <td>0.000000</td>\n",
       "      <td>0.000000</td>\n",
       "      <td>0.000000</td>\n",
       "      <td>0.000000</td>\n",
       "      <td>0.000000</td>\n",
       "    </tr>\n",
       "    <tr>\n",
       "      <th>2258</th>\n",
       "      <td>0.000000</td>\n",
       "      <td>0.090858</td>\n",
       "      <td>0.090892</td>\n",
       "      <td>0.000000</td>\n",
       "      <td>0.000000</td>\n",
       "      <td>0.080792</td>\n",
       "      <td>0.000000</td>\n",
       "      <td>0.169248</td>\n",
       "      <td>0.147904</td>\n",
       "      <td>0.000000</td>\n",
       "      <td>...</td>\n",
       "      <td>0.000000</td>\n",
       "      <td>0.000000</td>\n",
       "      <td>0.000000</td>\n",
       "      <td>0.000000</td>\n",
       "      <td>0.000000</td>\n",
       "      <td>0.000000</td>\n",
       "      <td>0.000000</td>\n",
       "      <td>0.000000</td>\n",
       "      <td>0.061548</td>\n",
       "      <td>0.172828</td>\n",
       "    </tr>\n",
       "  </tbody>\n",
       "</table>\n",
       "<p>5 rows × 360 columns</p>\n",
       "</div>"
      ],
      "text/plain": [
       "             '         (         )         ,         -         .       ...  \\\n",
       "3366  0.000000  0.016577  0.016583  0.073182  0.084022  0.044221  0.000000   \n",
       "5516  0.000000  0.000000  0.000000  0.099143  0.000000  0.112328  0.000000   \n",
       "5004  0.000000  0.000000  0.000000  0.194007  0.000000  0.143968  0.021666   \n",
       "2630  0.027615  0.042203  0.042219  0.372632  0.000000  0.178258  0.039534   \n",
       "2258  0.000000  0.090858  0.090892  0.000000  0.000000  0.080792  0.000000   \n",
       "\n",
       "           100         8         :  ...    élevag      état      étud  \\\n",
       "3366  0.000000  0.000000  0.018711  ...  0.000000  0.000000  0.106558   \n",
       "5516  0.000000  0.000000  0.015842  ...  0.000000  0.000000  0.000000   \n",
       "5004  0.000000  0.000000  0.013053  ...  0.025992  0.000000  0.000000   \n",
       "2630  0.000000  0.000000  0.011909  ...  0.047428  0.026478  0.000000   \n",
       "2258  0.169248  0.147904  0.000000  ...  0.000000  0.000000  0.000000   \n",
       "\n",
       "           été   évident      être      œuvr         –         ’         €  \n",
       "3366  0.000000  0.122377  0.060359  0.000000  0.000000  0.000000  0.000000  \n",
       "5516  0.000000  0.000000  0.000000  0.000000  0.385394  0.171143  0.000000  \n",
       "5004  0.022821  0.085374  0.000000  0.103298  0.000000  0.000000  0.000000  \n",
       "2630  0.000000  0.000000  0.000000  0.000000  0.000000  0.000000  0.000000  \n",
       "2258  0.000000  0.000000  0.000000  0.000000  0.000000  0.061548  0.172828  \n",
       "\n",
       "[5 rows x 360 columns]"
      ]
     },
     "execution_count": 28,
     "metadata": {},
     "output_type": "execute_result"
    }
   ],
   "source": [
    "res = description_pipeline.transform(X_test.head())\n",
    "print(\"Input descriptions\")\n",
    "print(X_test.description.head())\n",
    "print(\"Output bags of words\")\n",
    "\n",
    "bow = pd.DataFrame(res.toarray(), columns=desc_vectorizer.get_feature_names())\n",
    "bow.set_index(X_test.head().index, inplace=True)\n",
    "bow.replace(0, np.nan).dropna(axis=1, how='all').fillna(0)"
   ]
  },
  {
   "cell_type": "markdown",
   "metadata": {},
   "source": [
    "## Fonctions pour obtenir les statistiques textuelles"
   ]
  },
  {
   "cell_type": "code",
   "execution_count": 29,
   "metadata": {
    "scrolled": true
   },
   "outputs": [
    {
     "data": {
      "text/plain": [
       "Pipeline(memory=None,\n",
       "         steps=[('singlecolumnselector',\n",
       "                 SingleColumnSelector(key='description')),\n",
       "                ('textstats', TextStats()),\n",
       "                ('dictvectorizer',\n",
       "                 DictVectorizer(dtype=<class 'numpy.float64'>, separator='=',\n",
       "                                sort=True, sparse=True))],\n",
       "         verbose=False)"
      ]
     },
     "execution_count": 29,
     "metadata": {},
     "output_type": "execute_result"
    }
   ],
   "source": [
    "class TextStats(BaseEstimator, TransformerMixin):\n",
    "\n",
    "    def fit(self, x, y=None):\n",
    "        return self\n",
    "\n",
    "    def transform(self, descs):\n",
    "        return [{'stats_length': len(text),\n",
    "                 'stats_num_sentences': text.count('.')+text.count('!')+text.count('?')}\n",
    "                for text in descs]\n",
    "    \n",
    "stats_vectorizer = DictVectorizer()\n",
    "\n",
    "stats_pipeline = make_pipeline(\n",
    "    SingleColumnSelector(key=\"description\"),\n",
    "    TextStats(),\n",
    "    stats_vectorizer\n",
    ")\n",
    "\n",
    "stats_pipeline.fit(X_train)"
   ]
  },
  {
   "cell_type": "markdown",
   "metadata": {},
   "source": [
    "## Application du pipeline sur les 5 premières instances de X_test"
   ]
  },
  {
   "cell_type": "code",
   "execution_count": 30,
   "metadata": {
    "scrolled": true
   },
   "outputs": [
    {
     "name": "stdout",
     "output_type": "stream",
     "text": [
      "Input\n",
      "3366     De nombreuses études ayant mis en évidence le...\n",
      "5516     Les élu-es EELV au Conseil Régional dénoncent...\n",
      "5004     L'outarde canepetière est une espèce protégée...\n",
      "2630     Pour la pisciculture, ces attaques constituen...\n",
      "2258     Dans le cadre global de la planification écol...\n",
      "Name: description, dtype: object\n",
      "\n",
      "Output\n"
     ]
    },
    {
     "data": {
      "text/html": [
       "<div>\n",
       "<style scoped>\n",
       "    .dataframe tbody tr th:only-of-type {\n",
       "        vertical-align: middle;\n",
       "    }\n",
       "\n",
       "    .dataframe tbody tr th {\n",
       "        vertical-align: top;\n",
       "    }\n",
       "\n",
       "    .dataframe thead th {\n",
       "        text-align: right;\n",
       "    }\n",
       "</style>\n",
       "<table border=\"1\" class=\"dataframe\">\n",
       "  <thead>\n",
       "    <tr style=\"text-align: right;\">\n",
       "      <th></th>\n",
       "      <th>stats_length</th>\n",
       "      <th>stats_num_sentences</th>\n",
       "    </tr>\n",
       "  </thead>\n",
       "  <tbody>\n",
       "    <tr>\n",
       "      <th>3366</th>\n",
       "      <td>1381.0</td>\n",
       "      <td>6.0</td>\n",
       "    </tr>\n",
       "    <tr>\n",
       "      <th>5516</th>\n",
       "      <td>1749.0</td>\n",
       "      <td>10.0</td>\n",
       "    </tr>\n",
       "    <tr>\n",
       "      <th>5004</th>\n",
       "      <td>2623.0</td>\n",
       "      <td>18.0</td>\n",
       "    </tr>\n",
       "    <tr>\n",
       "      <th>2630</th>\n",
       "      <td>3015.0</td>\n",
       "      <td>26.0</td>\n",
       "    </tr>\n",
       "    <tr>\n",
       "      <th>2258</th>\n",
       "      <td>445.0</td>\n",
       "      <td>2.0</td>\n",
       "    </tr>\n",
       "  </tbody>\n",
       "</table>\n",
       "</div>"
      ],
      "text/plain": [
       "      stats_length  stats_num_sentences\n",
       "3366        1381.0                  6.0\n",
       "5516        1749.0                 10.0\n",
       "5004        2623.0                 18.0\n",
       "2630        3015.0                 26.0\n",
       "2258         445.0                  2.0"
      ]
     },
     "execution_count": 30,
     "metadata": {},
     "output_type": "execute_result"
    }
   ],
   "source": [
    "res = stats_pipeline.transform(X_test.head())\n",
    "print(\"Input\")\n",
    "print(X_test.description.head())\n",
    "print(\"Output\")\n",
    "\n",
    "stats = pd.DataFrame(res.toarray(), columns=stats_vectorizer.get_feature_names())\n",
    "stats.set_index(X_test.head().index)"
   ]
  },
  {
   "cell_type": "markdown",
   "metadata": {},
   "source": [
    "## Union des pipelines"
   ]
  },
  {
   "cell_type": "code",
   "execution_count": 31,
   "metadata": {
    "scrolled": false
   },
   "outputs": [
    {
     "data": {
      "text/plain": [
       "Pipeline(memory=None,\n",
       "         steps=[('featureunion',\n",
       "                 FeatureUnion(n_jobs=None,\n",
       "                              transformer_list=[('description_features',\n",
       "                                                 Pipeline(memory=None,\n",
       "                                                          steps=[('singlecolumnselector',\n",
       "                                                                  SingleColumnSelector(key='description')),\n",
       "                                                                 ('tfidfvectorizer',\n",
       "                                                                  TfidfVectorizer(analyzer='word',\n",
       "                                                                                  binary=False,\n",
       "                                                                                  decode_error='strict',\n",
       "                                                                                  dtype=<class 'numpy.float64'>,\n",
       "                                                                                  encoding='utf-8',\n",
       "                                                                                  input='content...\n",
       "                                                                                  tokenizer=<function split_into_stems at 0x0000018A8279BC18>,\n",
       "                                                                                  vocabulary=None))],\n",
       "                                                          verbose=False)),\n",
       "                                                ('stats_features',\n",
       "                                                 Pipeline(memory=None,\n",
       "                                                          steps=[('singlecolumnselector',\n",
       "                                                                  SingleColumnSelector(key='description')),\n",
       "                                                                 ('textstats',\n",
       "                                                                  TextStats()),\n",
       "                                                                 ('dictvectorizer',\n",
       "                                                                  DictVectorizer(dtype=<class 'numpy.float64'>,\n",
       "                                                                                 separator='=',\n",
       "                                                                                 sort=True,\n",
       "                                                                                 sparse=True))],\n",
       "                                                          verbose=False))],\n",
       "                              transformer_weights=None, verbose=False))],\n",
       "         verbose=False)"
      ]
     },
     "execution_count": 31,
     "metadata": {},
     "output_type": "execute_result"
    }
   ],
   "source": [
    "union = FeatureUnion(transformer_list= [\n",
    "    (\"description_features\", description_pipeline),\n",
    "    (\"titre_features\", titre_pipeline),\n",
    "    (\"stats_features\", stats_pipeline)\n",
    "])\n",
    "\n",
    "preprocess_pipeline = make_pipeline(\n",
    "        union\n",
    ")\n",
    "\n",
    "preprocess_pipeline.fit(X_train)"
   ]
  },
  {
   "cell_type": "markdown",
   "metadata": {},
   "source": [
    "## Application de la pipeline pour transformer les 5 premières instances de X_test"
   ]
  },
  {
   "cell_type": "code",
   "execution_count": 32,
   "metadata": {
    "scrolled": true
   },
   "outputs": [
    {
     "name": "stdout",
     "output_type": "stream",
     "text": [
      "Input\n",
      "                                                  titre  \\\n",
      "3366  Francis Hillmeyer propose de désigner au sein ...   \n",
      "5516  Les élus EELV du Conseil Régional Midi-Pyrénée...   \n",
      "5004  Geneviève Gaillard demande le renforcement des...   \n",
      "2630  Arnaud Viala demande de classer les cormorans ...   \n",
      "2258  Jean-Luc Mélenchon veut fortement encourager l...   \n",
      "\n",
      "                                            description  \n",
      "3366   De nombreuses études ayant mis en évidence le...  \n",
      "5516   Les élu-es EELV au Conseil Régional dénoncent...  \n",
      "5004   L'outarde canepetière est une espèce protégée...  \n",
      "2630   Pour la pisciculture, ces attaques constituen...  \n",
      "2258   Dans le cadre global de la planification écol...  \n",
      "\n",
      "Output\n"
     ]
    },
    {
     "data": {
      "text/html": [
       "<div>\n",
       "<style scoped>\n",
       "    .dataframe tbody tr th:only-of-type {\n",
       "        vertical-align: middle;\n",
       "    }\n",
       "\n",
       "    .dataframe tbody tr th {\n",
       "        vertical-align: top;\n",
       "    }\n",
       "\n",
       "    .dataframe thead th {\n",
       "        text-align: right;\n",
       "    }\n",
       "</style>\n",
       "<table border=\"1\" class=\"dataframe\">\n",
       "  <thead>\n",
       "    <tr style=\"text-align: right;\">\n",
       "      <th></th>\n",
       "      <th>'</th>\n",
       "      <th>(</th>\n",
       "      <th>)</th>\n",
       "      <th>,</th>\n",
       "      <th>-</th>\n",
       "      <th>.</th>\n",
       "      <th>...</th>\n",
       "      <th>100</th>\n",
       "      <th>8</th>\n",
       "      <th>:</th>\n",
       "      <th>...</th>\n",
       "      <th>sur</th>\n",
       "      <th>un</th>\n",
       "      <th>veut</th>\n",
       "      <th>vis</th>\n",
       "      <th>«</th>\n",
       "      <th>»</th>\n",
       "      <th>à</th>\n",
       "      <th>élus</th>\n",
       "      <th>stats_length</th>\n",
       "      <th>stats_num_sentences</th>\n",
       "    </tr>\n",
       "  </thead>\n",
       "  <tbody>\n",
       "    <tr>\n",
       "      <th>3366</th>\n",
       "      <td>0.000000</td>\n",
       "      <td>0.016577</td>\n",
       "      <td>0.016583</td>\n",
       "      <td>0.073182</td>\n",
       "      <td>0.084022</td>\n",
       "      <td>0.044221</td>\n",
       "      <td>0.000000</td>\n",
       "      <td>0.000000</td>\n",
       "      <td>0.000000</td>\n",
       "      <td>0.018711</td>\n",
       "      <td>...</td>\n",
       "      <td>1.0</td>\n",
       "      <td>1.0</td>\n",
       "      <td>0.0</td>\n",
       "      <td>0.0</td>\n",
       "      <td>1.0</td>\n",
       "      <td>1.0</td>\n",
       "      <td>0.0</td>\n",
       "      <td>0.0</td>\n",
       "      <td>1381.0</td>\n",
       "      <td>6.0</td>\n",
       "    </tr>\n",
       "    <tr>\n",
       "      <th>5516</th>\n",
       "      <td>0.000000</td>\n",
       "      <td>0.000000</td>\n",
       "      <td>0.000000</td>\n",
       "      <td>0.099143</td>\n",
       "      <td>0.000000</td>\n",
       "      <td>0.112328</td>\n",
       "      <td>0.000000</td>\n",
       "      <td>0.000000</td>\n",
       "      <td>0.000000</td>\n",
       "      <td>0.015842</td>\n",
       "      <td>...</td>\n",
       "      <td>0.0</td>\n",
       "      <td>0.0</td>\n",
       "      <td>0.0</td>\n",
       "      <td>0.0</td>\n",
       "      <td>0.0</td>\n",
       "      <td>0.0</td>\n",
       "      <td>0.0</td>\n",
       "      <td>1.0</td>\n",
       "      <td>1749.0</td>\n",
       "      <td>10.0</td>\n",
       "    </tr>\n",
       "    <tr>\n",
       "      <th>5004</th>\n",
       "      <td>0.000000</td>\n",
       "      <td>0.000000</td>\n",
       "      <td>0.000000</td>\n",
       "      <td>0.194007</td>\n",
       "      <td>0.000000</td>\n",
       "      <td>0.143968</td>\n",
       "      <td>0.021666</td>\n",
       "      <td>0.000000</td>\n",
       "      <td>0.000000</td>\n",
       "      <td>0.013053</td>\n",
       "      <td>...</td>\n",
       "      <td>0.0</td>\n",
       "      <td>0.0</td>\n",
       "      <td>0.0</td>\n",
       "      <td>0.0</td>\n",
       "      <td>0.0</td>\n",
       "      <td>0.0</td>\n",
       "      <td>0.0</td>\n",
       "      <td>0.0</td>\n",
       "      <td>2623.0</td>\n",
       "      <td>18.0</td>\n",
       "    </tr>\n",
       "    <tr>\n",
       "      <th>2630</th>\n",
       "      <td>0.027615</td>\n",
       "      <td>0.042203</td>\n",
       "      <td>0.042219</td>\n",
       "      <td>0.372632</td>\n",
       "      <td>0.000000</td>\n",
       "      <td>0.178258</td>\n",
       "      <td>0.039534</td>\n",
       "      <td>0.000000</td>\n",
       "      <td>0.000000</td>\n",
       "      <td>0.011909</td>\n",
       "      <td>...</td>\n",
       "      <td>0.0</td>\n",
       "      <td>0.0</td>\n",
       "      <td>0.0</td>\n",
       "      <td>0.0</td>\n",
       "      <td>0.0</td>\n",
       "      <td>0.0</td>\n",
       "      <td>0.0</td>\n",
       "      <td>0.0</td>\n",
       "      <td>3015.0</td>\n",
       "      <td>26.0</td>\n",
       "    </tr>\n",
       "    <tr>\n",
       "      <th>2258</th>\n",
       "      <td>0.000000</td>\n",
       "      <td>0.090858</td>\n",
       "      <td>0.090892</td>\n",
       "      <td>0.000000</td>\n",
       "      <td>0.000000</td>\n",
       "      <td>0.080792</td>\n",
       "      <td>0.000000</td>\n",
       "      <td>0.169248</td>\n",
       "      <td>0.147904</td>\n",
       "      <td>0.000000</td>\n",
       "      <td>...</td>\n",
       "      <td>0.0</td>\n",
       "      <td>0.0</td>\n",
       "      <td>1.0</td>\n",
       "      <td>1.0</td>\n",
       "      <td>1.0</td>\n",
       "      <td>1.0</td>\n",
       "      <td>1.0</td>\n",
       "      <td>0.0</td>\n",
       "      <td>445.0</td>\n",
       "      <td>2.0</td>\n",
       "    </tr>\n",
       "  </tbody>\n",
       "</table>\n",
       "<p>5 rows × 392 columns</p>\n",
       "</div>"
      ],
      "text/plain": [
       "             '         (         )         ,         -         .       ...  \\\n",
       "3366  0.000000  0.016577  0.016583  0.073182  0.084022  0.044221  0.000000   \n",
       "5516  0.000000  0.000000  0.000000  0.099143  0.000000  0.112328  0.000000   \n",
       "5004  0.000000  0.000000  0.000000  0.194007  0.000000  0.143968  0.021666   \n",
       "2630  0.027615  0.042203  0.042219  0.372632  0.000000  0.178258  0.039534   \n",
       "2258  0.000000  0.090858  0.090892  0.000000  0.000000  0.080792  0.000000   \n",
       "\n",
       "           100         8         :  ...  sur   un  veut  vis    «    »    à  \\\n",
       "3366  0.000000  0.000000  0.018711  ...  1.0  1.0   0.0  0.0  1.0  1.0  0.0   \n",
       "5516  0.000000  0.000000  0.015842  ...  0.0  0.0   0.0  0.0  0.0  0.0  0.0   \n",
       "5004  0.000000  0.000000  0.013053  ...  0.0  0.0   0.0  0.0  0.0  0.0  0.0   \n",
       "2630  0.000000  0.000000  0.011909  ...  0.0  0.0   0.0  0.0  0.0  0.0  0.0   \n",
       "2258  0.169248  0.147904  0.000000  ...  0.0  0.0   1.0  1.0  1.0  1.0  1.0   \n",
       "\n",
       "      élus  stats_length  stats_num_sentences  \n",
       "3366   0.0        1381.0                  6.0  \n",
       "5516   1.0        1749.0                 10.0  \n",
       "5004   0.0        2623.0                 18.0  \n",
       "2630   0.0        3015.0                 26.0  \n",
       "2258   0.0         445.0                  2.0  \n",
       "\n",
       "[5 rows x 392 columns]"
      ]
     },
     "execution_count": 32,
     "metadata": {},
     "output_type": "execute_result"
    }
   ],
   "source": [
    "res = preprocess_pipeline.transform(X_test.head())\n",
    "print(\"Input\")\n",
    "print(X_test.head())\n",
    "\n",
    "print(\"Output\")\n",
    "\n",
    "all_features = pd.DataFrame(res.toarray(), \n",
    "                            columns=description_pipeline.named_steps['tfidfvectorizer'].get_feature_names()\n",
    "                            + titre_pipeline.named_steps['countvectorizer'].get_feature_names()\n",
    "                            + stats_pipeline.named_steps['dictvectorizer'].get_feature_names()\n",
    "                           )\n",
    "all_features.set_index(X_test.head().index, inplace=True)\n",
    "all_features.replace(0, np.nan).dropna(axis=1, how='all').fillna(0)"
   ]
  },
  {
   "cell_type": "markdown",
   "metadata": {},
   "source": [
    "## Affichage du nombre de traits générés par chacune des chaines "
   ]
  },
  {
   "cell_type": "code",
   "execution_count": 33,
   "metadata": {
    "scrolled": true
   },
   "outputs": [
    {
     "name": "stdout",
     "output_type": "stream",
     "text": [
      "Nombres de traits extraits à partir de la colonne titre : 203\n",
      "Nombres de traits extraits à partir de la colonne description : 2246\n",
      "Nombres de traits statistiques : 2\n"
     ]
    }
   ],
   "source": [
    "fnames_titre = titre_pipeline.named_steps['countvectorizer'].get_feature_names()\n",
    "fnames_desc = description_pipeline.named_steps['tfidfvectorizer'].get_feature_names()\n",
    "fnames_stat = stats_pipeline.named_steps['dictvectorizer'].get_feature_names()\n",
    "print('Nombres de traits extraits à partir de la colonne titre :', len(fnames_titre))\n",
    "print('Nombres de traits extraits à partir de la colonne description :', len(fnames_desc))\n",
    "print('Nombres de traits statistiques :', len(fnames_stat))"
   ]
  },
  {
   "cell_type": "markdown",
   "metadata": {},
   "source": [
    "## Comparaison des modèles"
   ]
  },
  {
   "cell_type": "code",
   "execution_count": 35,
   "metadata": {
    "scrolled": false
   },
   "outputs": [
    {
     "name": "stdout",
     "output_type": "stream",
     "text": [
      "Mutinomial NB\n",
      "                           precision    recall  f1-score   support\n",
      "\n",
      "  Agit contre les animaux       0.76      0.70      0.73      2511\n",
      "    Agit pour les animaux       0.76      0.70      0.73      3399\n",
      "Penche contre les animaux       0.17      0.55      0.26       290\n",
      "  Penche pour les animaux       0.41      0.30      0.35       523\n",
      "\n",
      "                 accuracy                           0.66      6723\n",
      "                macro avg       0.53      0.56      0.52      6723\n",
      "             weighted avg       0.71      0.66      0.68      6723\n",
      "\n",
      "accuracy 0.6490706319702603\n",
      "confusion matrix\n",
      "                            Agit contre les animaux  Agit pour les animaux  \\\n",
      "Agit contre les animaux                        325                     82   \n",
      "Agit pour les animaux                           92                    476   \n",
      "Penche contre les animaux                       12                     14   \n",
      "Penche pour les animaux                         16                     51   \n",
      "\n",
      "                           Penche contre les animaux  Penche pour les animaux  \n",
      "Agit contre les animaux                           51                       10  \n",
      "Agit pour les animaux                             92                       39  \n",
      "Penche contre les animaux                         31                        4  \n",
      "Penche pour les animaux                            9                       41  \n",
      "(row=expected, col=predicted)\n"
     ]
    },
    {
     "data": {
      "image/png": "[encoded data removed]",
      "text/plain": [
       "<Figure size 432x288 with 2 Axes>"
      ]
     },
     "metadata": {
      "needs_background": "light"
     },
     "output_type": "display_data"
    },
    {
     "name": "stdout",
     "output_type": "stream",
     "text": [
      "KNN\n",
      "                           precision    recall  f1-score   support\n",
      "\n",
      "  Agit contre les animaux       0.42      0.51      0.46      2511\n",
      "    Agit pour les animaux       0.54      0.57      0.55      3399\n",
      "Penche contre les animaux       0.28      0.02      0.03       290\n",
      "  Penche pour les animaux       0.11      0.01      0.02       523\n",
      "\n",
      "                 accuracy                           0.48      6723\n",
      "                macro avg       0.34      0.28      0.27      6723\n",
      "             weighted avg       0.45      0.48      0.45      6723\n",
      "\n",
      "accuracy 0.4684014869888476\n",
      "confusion matrix\n",
      "                            Agit contre les animaux  Agit pour les animaux  \\\n",
      "Agit contre les animaux                        236                    229   \n",
      "Agit pour les animaux                          299                    392   \n",
      "Penche contre les animaux                       34                     27   \n",
      "Penche pour les animaux                         51                     64   \n",
      "\n",
      "                           Penche contre les animaux  Penche pour les animaux  \n",
      "Agit contre les animaux                            0                        3  \n",
      "Agit pour les animaux                              0                        8  \n",
      "Penche contre les animaux                          0                        0  \n",
      "Penche pour les animaux                            0                        2  \n",
      "(row=expected, col=predicted)\n"
     ]
    },
    {
     "data": {
      "image/png": "[encoded data removed]",
      "text/plain": [
       "<Figure size 432x288 with 2 Axes>"
      ]
     },
     "metadata": {
      "needs_background": "light"
     },
     "output_type": "display_data"
    },
    {
     "data": {
      "image/png": "[encoded data removed]",
      "text/plain": [
       "<Figure size 432x288 with 1 Axes>"
      ]
     },
     "metadata": {
      "needs_background": "light"
     },
     "output_type": "display_data"
    }
   ],
   "source": [
    "models = [\n",
    "    ('Mutinomial NB', MultinomialNB()),\n",
    "    ('KNN', KNeighborsClassifier()),\n",
    "]\n",
    "\n",
    "# Evaluation de chaque résultat\n",
    "scores = []\n",
    "names = []\n",
    "scoring = 'accuracy'\n",
    "\n",
    "# Validation croisée à 5 plis\n",
    "kfold = model_selection.KFold(n_splits=5, shuffle=True)\n",
    "for name, model in models:\n",
    "    names.append(name)\n",
    "    print(name)\n",
    "    model_pipeline = make_pipeline(preprocess_pipeline,model)\n",
    "    y_pred = model_selection.cross_val_predict(model_pipeline, X, y, \n",
    "                                               cv=kfold, n_jobs=2)\n",
    "    print(classification_report(y, y_pred))\n",
    "    acc = metrics.accuracy_score(y, y_pred)\n",
    "    scores.append(acc)\n",
    "    model_pipeline.fit(X_train, y_train)\n",
    "    all_predictions = model_pipeline.predict(X_test)\n",
    "    \n",
    "    # all_predictions : classes prédites par l'algorithme d'apprentissage pour les données de test\n",
    "    print('accuracy', accuracy_score(y_test, all_predictions))\n",
    "    \n",
    "    # Liste des labels (classes) se trouvant dans les données de test\n",
    "    labels = np.unique(y_test)\n",
    "    \n",
    "    # Matrice de confusion\n",
    "    cm =  confusion_matrix(y_test, all_predictions, labels=labels)\n",
    "    \n",
    "    # Matrice de confusion sous forme de DataFrame\n",
    "    confusion_df = pd.DataFrame(cm, index=labels, columns=labels)\n",
    "    print('confusion matrix\\n', confusion_df)\n",
    "    print('(row=expected, col=predicted)')\n",
    "    labels = np.unique(y_test)\n",
    "    cm = confusion_matrix(y_test, all_predictions, labels) \n",
    "    fig = plt.figure() \n",
    "    ax = fig.add_subplot(111) \n",
    "    cax = ax.matshow(cm, interpolation='nearest', cmap=plt.cm.Oranges) \n",
    "    fig.colorbar(cax) \n",
    "    tick_marks = np.arange(len(labels))\n",
    "    labels_for_fig = [l for l in labels]\n",
    "    plt.xticks(tick_marks, labels_for_fig, rotation=45)\n",
    "    plt.yticks(tick_marks, labels_for_fig) \n",
    "    plt.xlabel('Predicted') \n",
    "    plt.ylabel('Expected') \n",
    "    plt.show()\n",
    "    \n",
    "# Représentation graphique\n",
    "indices = np.arange(len(scores))\n",
    "fig = plt.figure()\n",
    "plt.barh(indices, scores, .2, label=\"score\", color='b')\n",
    "plt.yticks(())\n",
    "for i, c in zip(indices, names):\n",
    "    plt.text(-.3, i, c)\n",
    "plt.show()"
   ]
  },
  {
   "cell_type": "markdown",
   "metadata": {},
   "source": [
    "## Chaîne de prétraitement globale sans les traits concernant les statistiques"
   ]
  },
  {
   "cell_type": "code",
   "execution_count": 30,
   "metadata": {
    "scrolled": true
   },
   "outputs": [
    {
     "data": {
      "text/plain": [
       "Pipeline(memory=None,\n",
       "         steps=[('featureunion',\n",
       "                 FeatureUnion(n_jobs=None,\n",
       "                              transformer_list=[('titre_feature',\n",
       "                                                 Pipeline(memory=None,\n",
       "                                                          steps=[('singlecolumnselector',\n",
       "                                                                  SingleColumnSelector(key='titre')),\n",
       "                                                                 ('countvectorizer',\n",
       "                                                                  CountVectorizer(analyzer='word',\n",
       "                                                                                  binary=False,\n",
       "                                                                                  decode_error='strict',\n",
       "                                                                                  dtype=<class 'numpy.int64'>,\n",
       "                                                                                  encoding='utf-8',\n",
       "                                                                                  input='content',\n",
       "                                                                                  lowercase=Tru...\n",
       "                                                                                  max_df=1.0,\n",
       "                                                                                  max_features=None,\n",
       "                                                                                  min_df=0.01,\n",
       "                                                                                  ngram_range=(1,\n",
       "                                                                                               1),\n",
       "                                                                                  norm='l2',\n",
       "                                                                                  preprocessor=None,\n",
       "                                                                                  smooth_idf=True,\n",
       "                                                                                  stop_words=None,\n",
       "                                                                                  strip_accents=None,\n",
       "                                                                                  sublinear_tf=False,\n",
       "                                                                                  token_pattern='(?u)\\\\b\\\\w\\\\w+\\\\b',\n",
       "                                                                                  tokenizer=<function split_into_stems at 0x000002621C79AC18>,\n",
       "                                                                                  use_idf=True,\n",
       "                                                                                  vocabulary=None))],\n",
       "                                                          verbose=False))],\n",
       "                              transformer_weights=None, verbose=False))],\n",
       "         verbose=False)"
      ]
     },
     "execution_count": 30,
     "metadata": {},
     "output_type": "execute_result"
    }
   ],
   "source": [
    "union = FeatureUnion(transformer_list = [\n",
    "        (\"titre_feature\", titre_pipeline),\n",
    "        (\"description_feature\", description_pipeline),\n",
    "    ])\n",
    "\n",
    "preprocess_pipeline = make_pipeline(\n",
    "    union\n",
    ")\n",
    "\n",
    "preprocess_pipeline.fit(X_train)"
   ]
  },
  {
   "cell_type": "markdown",
   "metadata": {},
   "source": [
    "## Application de la pipeline pour transformer les 5 premières instances de X_test"
   ]
  },
  {
   "cell_type": "code",
   "execution_count": 31,
   "metadata": {
    "scrolled": true
   },
   "outputs": [
    {
     "name": "stdout",
     "output_type": "stream",
     "text": [
      "Input\n",
      "                                                  titre  \\\n",
      "3379  Le Conseil départemental de la Vendée propose ...   \n",
      "1239  La ville de Saint-Michel-sur-Orge refuse les c...   \n",
      "656   Européennes 2019 : DLF veut systématiser la vi...   \n",
      "2296  François Fillon veut simplifier le permis de c...   \n",
      "608   2 députés demandent au gouvernement de s'oppos...   \n",
      "\n",
      "                                            description  \n",
      "3379   Dans le cadre de la Nuit Européenne des Muse...  \n",
      "1239   Sensible au bien-être animal », la maire (LR)...  \n",
      "656    5 Systématiser la vidéosurveillance et les in...  \n",
      "2296   Simplifier et lever les contraintes administr...  \n",
      "608    Question écrite de M. Anthony Cellier  député...  \n",
      "\n",
      "Output\n"
     ]
    },
    {
     "data": {
      "text/html": [
       "<div>\n",
       "<style scoped>\n",
       "    .dataframe tbody tr th:only-of-type {\n",
       "        vertical-align: middle;\n",
       "    }\n",
       "\n",
       "    .dataframe tbody tr th {\n",
       "        vertical-align: top;\n",
       "    }\n",
       "\n",
       "    .dataframe thead th {\n",
       "        text-align: right;\n",
       "    }\n",
       "</style>\n",
       "<table border=\"1\" class=\"dataframe\">\n",
       "  <thead>\n",
       "    <tr style=\"text-align: right;\">\n",
       "      <th></th>\n",
       "      <th>'</th>\n",
       "      <th>)</th>\n",
       "      <th>1/2005</th>\n",
       "      <th>1000</th>\n",
       "      <th>19</th>\n",
       "      <th>2</th>\n",
       "      <th>2007</th>\n",
       "      <th>2017.</th>\n",
       "      <th>2018.</th>\n",
       "      <th>2020</th>\n",
       "      <th>...</th>\n",
       "      <th>protect</th>\n",
       "      <th>présidentiel</th>\n",
       "      <th>publiqu</th>\n",
       "      <th>que</th>\n",
       "      <th>refus</th>\n",
       "      <th>stérilis</th>\n",
       "      <th>une</th>\n",
       "      <th>ver</th>\n",
       "      <th>«</th>\n",
       "      <th>élevag</th>\n",
       "    </tr>\n",
       "  </thead>\n",
       "  <tbody>\n",
       "    <tr>\n",
       "      <th>3379</th>\n",
       "      <td>0.0</td>\n",
       "      <td>0.0</td>\n",
       "      <td>0.0</td>\n",
       "      <td>0.0</td>\n",
       "      <td>0.0</td>\n",
       "      <td>0.0</td>\n",
       "      <td>1.0</td>\n",
       "      <td>1.0</td>\n",
       "      <td>4.0</td>\n",
       "      <td>0.0</td>\n",
       "      <td>...</td>\n",
       "      <td>0.000000</td>\n",
       "      <td>0.000000</td>\n",
       "      <td>0.000000</td>\n",
       "      <td>0.000000</td>\n",
       "      <td>0.00000</td>\n",
       "      <td>0.000000</td>\n",
       "      <td>0.000000</td>\n",
       "      <td>0.000000</td>\n",
       "      <td>0.084375</td>\n",
       "      <td>0.063601</td>\n",
       "    </tr>\n",
       "    <tr>\n",
       "      <th>1239</th>\n",
       "      <td>0.0</td>\n",
       "      <td>0.0</td>\n",
       "      <td>1.0</td>\n",
       "      <td>0.0</td>\n",
       "      <td>0.0</td>\n",
       "      <td>1.0</td>\n",
       "      <td>0.0</td>\n",
       "      <td>0.0</td>\n",
       "      <td>2.0</td>\n",
       "      <td>0.0</td>\n",
       "      <td>...</td>\n",
       "      <td>0.000000</td>\n",
       "      <td>0.000000</td>\n",
       "      <td>0.000000</td>\n",
       "      <td>0.000000</td>\n",
       "      <td>0.00000</td>\n",
       "      <td>0.000000</td>\n",
       "      <td>0.000000</td>\n",
       "      <td>0.000000</td>\n",
       "      <td>0.061432</td>\n",
       "      <td>0.185228</td>\n",
       "    </tr>\n",
       "    <tr>\n",
       "      <th>656</th>\n",
       "      <td>1.0</td>\n",
       "      <td>1.0</td>\n",
       "      <td>0.0</td>\n",
       "      <td>0.0</td>\n",
       "      <td>0.0</td>\n",
       "      <td>0.0</td>\n",
       "      <td>0.0</td>\n",
       "      <td>1.0</td>\n",
       "      <td>0.0</td>\n",
       "      <td>0.0</td>\n",
       "      <td>...</td>\n",
       "      <td>0.000000</td>\n",
       "      <td>0.000000</td>\n",
       "      <td>0.000000</td>\n",
       "      <td>0.000000</td>\n",
       "      <td>0.00000</td>\n",
       "      <td>0.000000</td>\n",
       "      <td>0.000000</td>\n",
       "      <td>0.000000</td>\n",
       "      <td>0.000000</td>\n",
       "      <td>0.000000</td>\n",
       "    </tr>\n",
       "    <tr>\n",
       "      <th>2296</th>\n",
       "      <td>0.0</td>\n",
       "      <td>0.0</td>\n",
       "      <td>0.0</td>\n",
       "      <td>0.0</td>\n",
       "      <td>2.0</td>\n",
       "      <td>0.0</td>\n",
       "      <td>0.0</td>\n",
       "      <td>0.0</td>\n",
       "      <td>2.0</td>\n",
       "      <td>0.0</td>\n",
       "      <td>...</td>\n",
       "      <td>0.000000</td>\n",
       "      <td>0.000000</td>\n",
       "      <td>0.000000</td>\n",
       "      <td>0.000000</td>\n",
       "      <td>0.00000</td>\n",
       "      <td>0.000000</td>\n",
       "      <td>0.000000</td>\n",
       "      <td>0.000000</td>\n",
       "      <td>0.000000</td>\n",
       "      <td>0.000000</td>\n",
       "    </tr>\n",
       "    <tr>\n",
       "      <th>608</th>\n",
       "      <td>0.0</td>\n",
       "      <td>0.0</td>\n",
       "      <td>0.0</td>\n",
       "      <td>1.0</td>\n",
       "      <td>1.0</td>\n",
       "      <td>0.0</td>\n",
       "      <td>0.0</td>\n",
       "      <td>0.0</td>\n",
       "      <td>2.0</td>\n",
       "      <td>1.0</td>\n",
       "      <td>...</td>\n",
       "      <td>0.029935</td>\n",
       "      <td>0.018141</td>\n",
       "      <td>0.019809</td>\n",
       "      <td>0.038759</td>\n",
       "      <td>0.03625</td>\n",
       "      <td>0.025717</td>\n",
       "      <td>0.023913</td>\n",
       "      <td>0.029387</td>\n",
       "      <td>0.026882</td>\n",
       "      <td>0.000000</td>\n",
       "    </tr>\n",
       "  </tbody>\n",
       "</table>\n",
       "<p>5 rows × 356 columns</p>\n",
       "</div>"
      ],
      "text/plain": [
       "        '    )  1/2005  1000   19    2  2007  2017.  2018.  2020  ...  \\\n",
       "3379  0.0  0.0     0.0   0.0  0.0  0.0   1.0    1.0    4.0   0.0  ...   \n",
       "1239  0.0  0.0     1.0   0.0  0.0  1.0   0.0    0.0    2.0   0.0  ...   \n",
       "656   1.0  1.0     0.0   0.0  0.0  0.0   0.0    1.0    0.0   0.0  ...   \n",
       "2296  0.0  0.0     0.0   0.0  2.0  0.0   0.0    0.0    2.0   0.0  ...   \n",
       "608   0.0  0.0     0.0   1.0  1.0  0.0   0.0    0.0    2.0   1.0  ...   \n",
       "\n",
       "       protect  présidentiel   publiqu       que    refus  stérilis       une  \\\n",
       "3379  0.000000      0.000000  0.000000  0.000000  0.00000  0.000000  0.000000   \n",
       "1239  0.000000      0.000000  0.000000  0.000000  0.00000  0.000000  0.000000   \n",
       "656   0.000000      0.000000  0.000000  0.000000  0.00000  0.000000  0.000000   \n",
       "2296  0.000000      0.000000  0.000000  0.000000  0.00000  0.000000  0.000000   \n",
       "608   0.029935      0.018141  0.019809  0.038759  0.03625  0.025717  0.023913   \n",
       "\n",
       "           ver         «    élevag  \n",
       "3379  0.000000  0.084375  0.063601  \n",
       "1239  0.000000  0.061432  0.185228  \n",
       "656   0.000000  0.000000  0.000000  \n",
       "2296  0.000000  0.000000  0.000000  \n",
       "608   0.029387  0.026882  0.000000  \n",
       "\n",
       "[5 rows x 356 columns]"
      ]
     },
     "execution_count": 31,
     "metadata": {},
     "output_type": "execute_result"
    }
   ],
   "source": [
    "res = preprocess_pipeline.transform(X_test.head())\n",
    "print(\"Input\")\n",
    "print(X_test.head())\n",
    "print(\"Output\")\n",
    "\n",
    "all_features = pd.DataFrame(res.toarray(), \n",
    "                            columns=description_pipeline.named_steps['tfidfvectorizer'].get_feature_names()\n",
    "                            + titre_pipeline.named_steps['countvectorizer'].get_feature_names()\n",
    "                           )\n",
    "all_features.set_index(X_test.head().index, inplace=True)\n",
    "all_features.replace(0, np.nan).dropna(axis=1, how='all').fillna(0)"
   ]
  },
  {
   "cell_type": "markdown",
   "metadata": {},
   "source": [
    "## Affichage du nombre de traits générés par chacune des chaines "
   ]
  },
  {
   "cell_type": "code",
   "execution_count": 32,
   "metadata": {
    "scrolled": true
   },
   "outputs": [
    {
     "name": "stdout",
     "output_type": "stream",
     "text": [
      "Nombres de traits extraits à partir de la colonne titre : 204\n",
      "Nombres de traits extraits à partir de la colonne description : 2275\n"
     ]
    }
   ],
   "source": [
    "fnames_titre = titre_pipeline.named_steps['countvectorizer'].get_feature_names()\n",
    "fnames_desc = description_pipeline.named_steps['tfidfvectorizer'].get_feature_names()\n",
    "print('Nombres de traits extraits à partir de la colonne titre :', len(fnames_titre))\n",
    "print('Nombres de traits extraits à partir de la colonne description :', len(fnames_desc))"
   ]
  },
  {
   "cell_type": "markdown",
   "metadata": {},
   "source": [
    "## Comparaison des modèles"
   ]
  },
  {
   "cell_type": "code",
   "execution_count": 33,
   "metadata": {
    "scrolled": true
   },
   "outputs": [
    {
     "name": "stdout",
     "output_type": "stream",
     "text": [
      "Mutinomial NB\n",
      "                           precision    recall  f1-score   support\n",
      "\n",
      "  Agit contre les animaux       0.78      0.80      0.79      2511\n",
      "    Agit pour les animaux       0.79      0.83      0.81      3399\n",
      "Penche contre les animaux       0.56      0.53      0.54       290\n",
      "  Penche pour les animaux       0.52      0.30      0.38       523\n",
      "\n",
      "                 accuracy                           0.76      6723\n",
      "                macro avg       0.66      0.61      0.63      6723\n",
      "             weighted avg       0.75      0.76      0.76      6723\n",
      "\n",
      "accuracy 0.7620817843866171\n",
      "confusion matrix\n",
      "                            Agit contre les animaux  Agit pour les animaux  \\\n",
      "Agit contre les animaux                        398                     71   \n",
      "Agit pour les animaux                           84                    568   \n",
      "Penche contre les animaux                        8                     17   \n",
      "Penche pour les animaux                         15                     76   \n",
      "\n",
      "                           Penche contre les animaux  Penche pour les animaux  \n",
      "Agit contre les animaux                           13                        9  \n",
      "Agit pour les animaux                             11                       16  \n",
      "Penche contre les animaux                         23                        0  \n",
      "Penche pour les animaux                            0                       36  \n",
      "(row=expected, col=predicted)\n"
     ]
    },
    {
     "data": {
      "image/png": "[encoded data removed]",
      "text/plain": [
       "<Figure size 432x288 with 2 Axes>"
      ]
     },
     "metadata": {
      "needs_background": "light"
     },
     "output_type": "display_data"
    },
    {
     "name": "stdout",
     "output_type": "stream",
     "text": [
      "KNN\n",
      "                           precision    recall  f1-score   support\n",
      "\n",
      "  Agit contre les animaux       0.66      0.74      0.70      2511\n",
      "    Agit pour les animaux       0.72      0.77      0.75      3399\n",
      "Penche contre les animaux       0.95      0.33      0.49       290\n",
      "  Penche pour les animaux       0.72      0.23      0.35       523\n",
      "\n",
      "                 accuracy                           0.70      6723\n",
      "                macro avg       0.76      0.52      0.57      6723\n",
      "             weighted avg       0.71      0.70      0.69      6723\n",
      "\n",
      "accuracy 0.7063197026022305\n",
      "confusion matrix\n",
      "                            Agit contre les animaux  Agit pour les animaux  \\\n",
      "Agit contre les animaux                        380                    110   \n",
      "Agit pour les animaux                          147                    527   \n",
      "Penche contre les animaux                       17                     18   \n",
      "Penche pour les animaux                         30                     67   \n",
      "\n",
      "                           Penche contre les animaux  Penche pour les animaux  \n",
      "Agit contre les animaux                            0                        1  \n",
      "Agit pour les animaux                              0                        5  \n",
      "Penche contre les animaux                         13                        0  \n",
      "Penche pour les animaux                            0                       30  \n",
      "(row=expected, col=predicted)\n"
     ]
    },
    {
     "data": {
      "image/png": "[encoded data removed]",
      "text/plain": [
       "<Figure size 432x288 with 2 Axes>"
      ]
     },
     "metadata": {
      "needs_background": "light"
     },
     "output_type": "display_data"
    },
    {
     "name": "stdout",
     "output_type": "stream",
     "text": [
      "SVM\n",
      "                           precision    recall  f1-score   support\n",
      "\n",
      "  Agit contre les animaux       0.82      0.87      0.85      2511\n",
      "    Agit pour les animaux       0.83      0.88      0.85      3399\n",
      "Penche contre les animaux       0.79      0.58      0.67       290\n",
      "  Penche pour les animaux       0.69      0.29      0.41       523\n",
      "\n",
      "                 accuracy                           0.82      6723\n",
      "                macro avg       0.78      0.66      0.69      6723\n",
      "             weighted avg       0.81      0.82      0.81      6723\n",
      "\n",
      "accuracy 0.8052044609665427\n",
      "confusion matrix\n",
      "                            Agit contre les animaux  Agit pour les animaux  \\\n",
      "Agit contre les animaux                        417                     66   \n",
      "Agit pour les animaux                           62                    610   \n",
      "Penche contre les animaux                       16                     11   \n",
      "Penche pour les animaux                         15                     75   \n",
      "\n",
      "                           Penche contre les animaux  Penche pour les animaux  \n",
      "Agit contre les animaux                            6                        2  \n",
      "Agit pour les animaux                              2                        5  \n",
      "Penche contre les animaux                         21                        0  \n",
      "Penche pour les animaux                            2                       35  \n",
      "(row=expected, col=predicted)\n"
     ]
    },
    {
     "data": {
      "image/png": "[encoded data removed]",
      "text/plain": [
       "<Figure size 432x288 with 2 Axes>"
      ]
     },
     "metadata": {
      "needs_background": "light"
     },
     "output_type": "display_data"
    },
    {
     "data": {
      "image/png": "[encoded data removed]",
      "text/plain": [
       "<Figure size 432x288 with 1 Axes>"
      ]
     },
     "metadata": {
      "needs_background": "light"
     },
     "output_type": "display_data"
    }
   ],
   "source": [
    "models = [\n",
    "    ('Mutinomial NB', MultinomialNB()),\n",
    "    ('KNN', KNeighborsClassifier()),\n",
    "    ('SVM', svm.SVC(kernel='linear'))\n",
    "]\n",
    "\n",
    "# Evaluation de chaque résultat\n",
    "scores = []\n",
    "names = []\n",
    "scoring = 'accuracy'\n",
    "\n",
    "# Validation croisée à 5 plis\n",
    "kfold = model_selection.KFold(n_splits=5, shuffle=True)\n",
    "for name, model in models:\n",
    "    names.append(name)\n",
    "    print(name)\n",
    "    model_pipeline = make_pipeline(preprocess_pipeline,model)\n",
    "    y_pred = model_selection.cross_val_predict(model_pipeline, X, y, \n",
    "                                               cv=kfold, n_jobs=2)\n",
    "    print(classification_report(y, y_pred))\n",
    "    acc = metrics.accuracy_score(y, y_pred)\n",
    "    scores.append(acc)\n",
    "    model_pipeline.fit(X_train, y_train)\n",
    "    all_predictions = model_pipeline.predict(X_test)\n",
    "    \n",
    "    # all_predictions : classes prédites par l'algorithme d'apprentissage pour les données de test\n",
    "    print('accuracy', accuracy_score(y_test, all_predictions))\n",
    "    \n",
    "    # Liste des labels (classes) se trouvant dans les données de test\n",
    "    labels = np.unique(y_test)\n",
    "    \n",
    "    # Matrice de confusion\n",
    "    cm =  confusion_matrix(y_test, all_predictions, labels=labels)\n",
    "    \n",
    "    # Matrice de confusion sous forme de DataFrame\n",
    "    confusion_df = pd.DataFrame(cm, index=labels, columns=labels)\n",
    "    print('confusion matrix\\n', confusion_df)\n",
    "    print('(row=expected, col=predicted)')\n",
    "    labels = np.unique(y_test)\n",
    "    cm = confusion_matrix(y_test, all_predictions, labels) \n",
    "    fig = plt.figure() \n",
    "    ax = fig.add_subplot(111) \n",
    "    cax = ax.matshow(cm, interpolation='nearest', cmap=plt.cm.Oranges) \n",
    "    fig.colorbar(cax) \n",
    "    tick_marks = np.arange(len(labels))\n",
    "    labels_for_fig = [l for l in labels]\n",
    "    plt.xticks(tick_marks, labels_for_fig, rotation=45)\n",
    "    plt.yticks(tick_marks, labels_for_fig) \n",
    "    plt.xlabel('Predicted') \n",
    "    plt.ylabel('Expected') \n",
    "    plt.show()\n",
    "    \n",
    "# Représentation graphique\n",
    "indices = np.arange(len(scores))\n",
    "fig = plt.figure()\n",
    "plt.barh(indices, scores, .2, label=\"score\", color='b')\n",
    "plt.yticks(())\n",
    "for i, c in zip(indices, names):\n",
    "    plt.text(-.3, i, c)\n",
    "plt.show()"
   ]
  }
 ],
 "metadata": {
  "kernelspec": {
   "display_name": "Python 3",
   "language": "python",
   "name": "python3"
  },
  "language_info": {
   "codemirror_mode": {
    "name": "ipython",
    "version": 3
   },
   "file_extension": ".py",
   "mimetype": "text/x-python",
   "name": "python",
   "nbconvert_exporter": "python",
   "pygments_lexer": "ipython3",
   "version": "3.8.5"
  }
 },
 "nbformat": 4,
 "nbformat_minor": 2
}
